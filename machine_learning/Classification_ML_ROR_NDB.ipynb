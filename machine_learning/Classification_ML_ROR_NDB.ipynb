{
  "cells": [
    {
      "cell_type": "markdown",
      "metadata": {
        "id": "bujfv3WNgQeI"
      },
      "source": [
        "## SKIN LESION CLASSIFICATION WITH MACHINE LEARNING\n",
        "MAIA 2021 -2023\n",
        "\n",
        "\n",
        "*   BORRAS LLUIS\n",
        "*   CISNEROS JUAN\n",
        "*   LEON SOFIA\n",
        "\n"
      ]
    },
    {
      "cell_type": "markdown",
      "metadata": {
        "id": "pgjLEzzshlO-"
      },
      "source": [
        "# In  Brief\n",
        "\n",
        "The goal of this analysis is to train a machine learning algorightm to accurately distinguish between a Nevus, melanoma and seborrheic skin lesions from ISIC-2017 challenge Datasets.\n",
        "\n",
        "Analyzed features: \n",
        "\n",
        "* a) Geometric moments (Hu moments, eccentricity, irregularity) \n",
        "* b) Texture (GLCM, LBP) \n",
        "* c) Color (Mean, Std, Skessness)"
      ]
    },
    {
      "cell_type": "markdown",
      "metadata": {
        "id": "v9bsVA1Mpyf4"
      },
      "source": [
        "# Libraries"
      ]
    },
    {
      "cell_type": "code",
      "execution_count": null,
      "metadata": {
        "id": "1Lz5FA7hEihI"
      },
      "outputs": [],
      "source": [
        "%matplotlib inline\n",
        "import os\n",
        "import pandas as pd\n",
        "from pandas.core.frame import DataFrame\n",
        "import seaborn as sns\n",
        "import numpy as np\n",
        "from matplotlib import pyplot as plt\n",
        "from google.colab import drive\n",
        "from sklearn.feature_selection import SelectKBest, chi2, mutual_info_classif\n",
        "from sklearn.svm import SVC\n",
        "from sklearn.pipeline import Pipeline\n",
        "from sklearn.decomposition import PCA\n",
        "from sklearn.model_selection import train_test_split, StratifiedKFold, GridSearchCV\n",
        "from sklearn.model_selection import cross_val_score\n",
        "from sklearn.ensemble import GradientBoostingClassifier, AdaBoostClassifier \n",
        "from sklearn.ensemble import RandomForestClassifier, BaggingClassifier\n",
        "from sklearn.ensemble import VotingClassifier, ExtraTreesClassifier\n",
        "from sklearn.metrics import classification_report, confusion_matrix\n",
        "from sklearn.metrics import roc_curve, auc, plot_confusion_matrix\n",
        "from sklearn.metrics import precision_score, recall_score, accuracy_score, f1_score\n",
        "from sklearn.metrics import balanced_accuracy_score\n",
        "from sklearn.neighbors import KNeighborsClassifier\n",
        "from sklearn.feature_selection import SelectKBest, SelectPercentile, chi2\n",
        "from sklearn.feature_selection import f_classif, mutual_info_classif, RFECV\n",
        "from sklearn.preprocessing import StandardScaler, MinMaxScaler\n",
        "from sklearn.linear_model import LogisticRegression\n",
        "from sklearn.discriminant_analysis import LinearDiscriminantAnalysis\n",
        "from sklearn.tree import DecisionTreeClassifier\n",
        "from sklearn.naive_bayes import GaussianNB\n",
        "from collections import Counter\n",
        "from sklearn.exceptions import FitFailedWarning\n",
        "from sklearn.metrics import make_scorer\n",
        "import warnings"
      ]
    },
    {
      "cell_type": "markdown",
      "metadata": {
        "id": "5AR5Q1t0pvId"
      },
      "source": [
        "# Functions\n",
        "\n",
        "\n",
        "*   Dataloader\n",
        "*   Model Estimator\n",
        "*   Show Metrics\n",
        "\n"
      ]
    },
    {
      "cell_type": "code",
      "execution_count": null,
      "metadata": {
        "id": "gqPTEP3pFSRU"
      },
      "outputs": [],
      "source": [
        "def ML_dataloader(feature_file,target_file):\n",
        "    \"\"\"\n",
        "    This function loads the data into a pandas format\n",
        "        Parameters:\n",
        "        ---------------\n",
        "        feature_file    csv with the features of every image per row\n",
        "        target_file     csv with the targets/labels of every image\n",
        "        \"\"\"\n",
        "    features = pd.read_csv(feature_file, sep=',', header=0, index_col=0)\n",
        "    target = pd.read_csv(target_file, sep=',', header=0, index_col=0)\n",
        "    # To access the names of the images do dataFrame.index\n",
        "    return features, target\n",
        "\n",
        "def estimator_function(model_dictionary):\n",
        "  \"\"\"\n",
        "    This function score models in a dictionary with cross validation and balance\n",
        "    accuracy\n",
        "      Parameters:\n",
        "      ---------------\n",
        "      model_dictionary  dictionary of model with name, model and parameters\n",
        "  \"\"\"   \n",
        "  for name, model, params in model_dictionary:\n",
        "    cv = StratifiedKFold(n_splits=10, shuffle=True, random_state=42)\n",
        "    with warnings.catch_warnings(record=False) as w:\n",
        "      try:\n",
        "        model_grid = GridSearchCV(model, params, n_jobs=-1)\n",
        "        cv_results = cross_val_score(model_grid, x, y, cv=cv, \n",
        "                                     scoring=make_scorer(balanced_accuracy_score),\n",
        "                                     n_jobs=-1)\n",
        "        results.append(cv_results)\n",
        "        names.append(name)\n",
        "      except ValueError:\n",
        "        pass    \n",
        "    msg = \"Cross Validation %s balanced accuracy: %f\" % (name, cv_results.mean())\n",
        "    print(msg)\n",
        "  return cv_results\n",
        "\n",
        "\n",
        "def show_metrics(y_test, y_pred):\n",
        "    \"\"\"\n",
        "    This function shows all the metrics (f1, precision, recall, accuracy, bma)\n",
        "     between the y_test and y_pred (Desire targets and prediction targets)\n",
        "      Parameters:\n",
        "      ----------------\n",
        "      y_test         test data tragets  \n",
        "      y_pred         prediction data\n",
        "    \"\"\"\n",
        "    fpr, tpr, _ = roc_curve(y_test,  y_pred, pos_label=2)\n",
        "    auc_ = auc(fpr, tpr)\n",
        "    f1 = f1_score(y_test,  y_pred, average='weighted')\n",
        "    prec = precision_score(y_test,  y_pred, average='weighted')\n",
        "    rec = recall_score(y_test,  y_pred, average='weighted')\n",
        "    acc = accuracy_score(y_test,  y_pred)\n",
        "    bma = balanced_accuracy_score(y_test,  y_pred)\n",
        "    print(\"F1: %.2f\" %f1 , \" -- prec: %.2f\" %prec, \" -- recall: %.2f\" %rec, \" -- acc: %.2f\" %acc, \" -- bma: %.2f\" %bma)\n",
        "    \"ROC curve plot\"\n",
        "    plt.plot(fpr,tpr, label='ROC curve (area = %.2f)' %auc_)\n",
        "    plt.ylabel('True Positive Rate')\n",
        "    plt.xlabel('False Positive Rate')\n",
        "    plt.legend()\n",
        "    plt.grid('-')\n",
        "    plt.show()\n",
        "    d = classification_report(y_test, y_pred,output_dict=True)\n",
        "    display(pd.DataFrame.from_dict(d))"
      ]
    },
    {
      "cell_type": "markdown",
      "metadata": {
        "id": "aYdl3iiLp3hO"
      },
      "source": [
        "# Data\n",
        "\n",
        "\n",
        "\n",
        "*   Upload data from drive cloud\n",
        "*   Read csv files\n",
        "*   Merge sets (Train + Validation), Data balancing and Data normalazing\n"
      ]
    },
    {
      "cell_type": "code",
      "execution_count": null,
      "metadata": {
        "colab": {
          "base_uri": "https://localhost:8080/"
        },
        "id": "QdFkgfsnFXhu",
        "outputId": "63ebb6b1-3084-420b-b391-0671f3b0a06e"
      },
      "outputs": [
        {
          "output_type": "stream",
          "name": "stdout",
          "text": [
            "Mounted at /content/drive\n"
          ]
        }
      ],
      "source": [
        "# Google Drive connection\n",
        "drive.mount('/content/drive')\n",
        "\n",
        "# Read the data, add panda dataframe\n",
        "path_features = '/content/drive/MyDrive/SkinLesionsSegmentationClassificationMaterial/features_selection/features_train_v1.csv'\n",
        "path_labels = '/content/drive/MyDrive/SkinLesionsSegmentationClassificationMaterial/features_selection/ISIC-2017_Training_Validation_GroundTruth.csv'\n",
        "path_features_test = '/content/drive/MyDrive/SkinLesionsSegmentationClassificationMaterial/features_selection/features_test_v1.csv'\n",
        "path_labels_test = '/content/drive/MyDrive/SkinLesionsSegmentationClassificationMaterial/features_selection/ISIC-2017_Test_v2_Part3_GroundTruth.csv'\n",
        "\n",
        "#Data\n",
        "features_test, target_test = ML_dataloader(path_features_test, path_labels_test)\n",
        "features, target = ML_dataloader(path_features, path_labels)\n",
        "\n",
        "# #Plot the scatter matrix\n",
        "# pd.plotting.scatter_matrix(features[features.columns], figsize=(25,25))\n",
        "\n",
        "# Correlation plot\n",
        "# corr = features[features.columns].corr()\n",
        "# f, ax = plt.subplots(figsize=(30, 30))\n",
        "# sns.heatmap(corr, annot=False)"
      ]
    },
    {
      "cell_type": "code",
      "execution_count": null,
      "metadata": {
        "id": "trfM6dL8GNvU"
      },
      "outputs": [],
      "source": [
        "#Order the data merged (train  + validation sets)\n",
        "data=pd.merge(features,target['label'],left_index=True,right_index=True) \n",
        "data_test=pd.merge(features_test,target_test['label'],left_index=True,right_index=True) \n",
        "\n",
        "\n",
        "# Format features and targets to numpy\n",
        "x_base = data.drop('label',axis=1).to_numpy()\n",
        "y = data['label'].to_numpy()\n",
        "\n",
        "x_test_base = data_test.drop('label',axis=1).to_numpy()\n",
        "y_test = data_test['label'].to_numpy()\n",
        "\n",
        "#Scaling data\n",
        "scaler = MinMaxScaler()\n",
        "x = scaler.fit_transform(x_base) \n",
        "x_test = scaler.transform(x_test_base) \n",
        "\n",
        "x_header = list(data.drop('label',axis=1).columns.values)\n",
        "# print(x_header)"
      ]
    },
    {
      "cell_type": "code",
      "execution_count": null,
      "metadata": {
        "colab": {
          "base_uri": "https://localhost:8080/",
          "height": 442
        },
        "id": "lNMjaPNommTz",
        "outputId": "b305922f-a167-4759-b603-a1d36d64bbf3"
      },
      "outputs": [
        {
          "output_type": "display_data",
          "data": {
            "text/plain": [
              "<Figure size 432x288 with 1 Axes>"
            ],
            "image/png": "[encoded data removed]"
          },
          "metadata": {
            "needs_background": "light"
          }
        },
        {
          "output_type": "stream",
          "name": "stdout",
          "text": [
            "0    1450\n",
            "1     404\n",
            "2     296\n",
            "Name: label, dtype: int64\n"
          ]
        }
      ],
      "source": [
        "#TRAINING SET\n",
        "import matplotlib\n",
        "\n",
        "values = target['label'].value_counts()\n",
        "\n",
        "font = {'size'   : 12}\n",
        "matplotlib.rc('font', **font)\n",
        "fig = plt.figure()\n",
        "ax = fig.add_axes([0,0,1,1])\n",
        "langs = ['Nevus', 'Melanoma', 'Seborrheic']\n",
        "values = [values[0],values[1],values[2]]\n",
        "ax.bar(langs,values, color=[\"green\", \"red\", \"blue\"])\n",
        "plt.title(\"Train Class Distribution\")\n",
        "plt.xlabel('Class')\n",
        "plt.ylabel('Frequency')\n",
        "plt.show()\n",
        "\n",
        "print(target['label'].value_counts())\n"
      ]
    },
    {
      "cell_type": "code",
      "execution_count": null,
      "metadata": {
        "colab": {
          "base_uri": "https://localhost:8080/",
          "height": 442
        },
        "id": "ZwFULkRHs4Eu",
        "outputId": "80ce3844-3fcc-42cb-c632-2b38010f1372"
      },
      "outputs": [
        {
          "output_type": "display_data",
          "data": {
            "text/plain": [
              "<Figure size 432x288 with 1 Axes>"
            ],
            "image/png": "[encoded data removed]"
          },
          "metadata": {
            "needs_background": "light"
          }
        },
        {
          "output_type": "execute_result",
          "data": {
            "text/plain": [
              "0    393\n",
              "1    117\n",
              "2     90\n",
              "Name: label, dtype: int64"
            ]
          },
          "metadata": {},
          "execution_count": 6
        }
      ],
      "source": [
        "# Test class distribution plotting\n",
        "\n",
        "# Plot\n",
        "values = target_test['label'].value_counts()\n",
        "\n",
        "font = {'size'   : 12}\n",
        "matplotlib.rc('font', **font)\n",
        "fig = plt.figure()\n",
        "ax = fig.add_axes([0,0,1,1])\n",
        "langs = ['Nevus', 'Melanoma', 'Seborrheic']\n",
        "values = [values[0],values[1],values[2]]\n",
        "ax.bar(langs,values, color=[\"green\", \"red\", \"blue\"])\n",
        "plt.title(\"Class Distribution Test\")\n",
        "plt.xlabel('Class')\n",
        "plt.ylabel('Frequency')\n",
        "plt.show()\n",
        "\n",
        "target_test['label'].value_counts()"
      ]
    },
    {
      "cell_type": "markdown",
      "metadata": {
        "id": "mFVTkW4q4HA_"
      },
      "source": [
        "# Optimization\n",
        "\n",
        "Test all the algorithms using scikit-learns's gridsearch method for model optimization. Our models will include parametric, non-parametric and nonlinear models.\n",
        "\n",
        "Classfier models: \n",
        "*   SVM (SVC)\n",
        "*   RandomForest (RFC)\n",
        "*   KNeighbors (KNN)\n",
        "*   DecisionTrees (DTC)\n",
        "*   ExtraTrees (ETC)\n",
        "*   GradientBoosting (GBC)\n",
        "*   Gaussian Naive Bayes (GNB)\n",
        "*   Voting\n"
      ]
    },
    {
      "cell_type": "code",
      "execution_count": null,
      "metadata": {
        "id": "DVVPX-s80pvm"
      },
      "outputs": [],
      "source": [
        "# Define parameters for optimization using dictionaries {parameter name: parameter list}\n",
        "\n",
        "SVM_params =  {'C':np.arange(1, 1001, 100), 'gamma':['scale', 'auto'],\n",
        "               'class_weight':['balanced']}\n",
        "KNN_params =  {'n_neighbors':np.arange(1, 10), 'p':[2],  \n",
        "               'weights':['uniform', 'distance']}\n",
        "RF_params =   {'criterion': ['gini', 'entropy'],\n",
        "               'n_estimators': np.arange(80, 121, 5),\n",
        "               \"bootstrap\": [ True, False]}\n",
        "DTC_params =  {'criterion':['entropy', 'gini'], \n",
        "               'max_features':[None, 'sqrt']}\n",
        "ET_params =   {'criterion': ['gini', 'entropy'],\n",
        "               'n_estimators': np.arange(80, 121, 10),\n",
        "               'max_features': ['sqrt', 'log2']}\n",
        "GB_params =   {'n_estimators': np.arange(100, 121, 5),\n",
        "               'learning_rate': np.arange(0.01, 0.041, 0.02)}"
      ]
    },
    {
      "cell_type": "code",
      "execution_count": null,
      "metadata": {
        "id": "uflWfSUD1ZH7"
      },
      "outputs": [],
      "source": [
        "# Append list of models with parameter dictionaries\n",
        "models_opt = []\n",
        "\n",
        "models_opt.append(('SVM', SVC(random_state=42), SVM_params))\n",
        "models_opt.append(('RFC', RandomForestClassifier(random_state=42), RF_params))\n",
        "models_opt.append(('KNN', KNeighborsClassifier(),KNN_params))\n",
        "models_opt.append(('DTC', DecisionTreeClassifier(random_state=42), DTC_params))\n",
        "models_opt.append(('ETC', ExtraTreesClassifier(random_state=42), ET_params))\n",
        "models_opt.append(('GBC', GradientBoostingClassifier(random_state=42), GB_params))"
      ]
    },
    {
      "cell_type": "code",
      "source": [
        "# For a faster running use TPU session, confirm the number of workers availables \n",
        "print(os.cpu_count())"
      ],
      "metadata": {
        "colab": {
          "base_uri": "https://localhost:8080/"
        },
        "id": "yIsfDk2YLp31",
        "outputId": "5ddf5846-c1cf-4d9a-e2d9-6d7ad4030a46"
      },
      "execution_count": null,
      "outputs": [
        {
          "output_type": "stream",
          "name": "stdout",
          "text": [
            "40\n"
          ]
        }
      ]
    },
    {
      "cell_type": "code",
      "execution_count": null,
      "metadata": {
        "colab": {
          "base_uri": "https://localhost:8080/"
        },
        "id": "FIZDtgm810qn",
        "outputId": "e48d7308-8aec-43f2-cd2e-35b9a2298864"
      },
      "outputs": [
        {
          "output_type": "stream",
          "name": "stdout",
          "text": [
            "Cross Validation SVM balanced accuracy: 0.590759\n",
            "Cross Validation RFC balanced accuracy: 0.470141\n",
            "Cross Validation KNN balanced accuracy: 0.413192\n",
            "Cross Validation DTC balanced accuracy: 0.453286\n",
            "Cross Validation ETC balanced accuracy: 0.476644\n",
            "Cross Validation GBC balanced accuracy: 0.361150\n",
            "[array([0.59551444, 0.5979815 , 0.58968321, 0.56932997, 0.56063218,\n",
            "       0.56283525, 0.65210728, 0.61781609, 0.59655172, 0.5651341 ]), array([0.40723297, 0.45320998, 0.46027474, 0.46363891, 0.46082375,\n",
            "       0.51216475, 0.50105364, 0.49454023, 0.44971264, 0.49875479]), array([0.444351  , 0.37275021, 0.44648164, 0.44754696, 0.44597701,\n",
            "       0.39319923, 0.38342912, 0.42749042, 0.4052682 , 0.36542146]), array([0.4445192 , 0.49772918, 0.45264929, 0.52071769, 0.41369732,\n",
            "       0.45842912, 0.47931034, 0.40229885, 0.39568966, 0.46781609]), array([0.45657415, 0.46134006, 0.46947014, 0.45674236, 0.49042146,\n",
            "       0.51072797, 0.49319923, 0.46408046, 0.46408046, 0.49980843]), array([0.36445192, 0.32873563, 0.36691898, 0.38884216, 0.37777778,\n",
            "       0.35881226, 0.35047893, 0.375     , 0.35047893, 0.35      ])]\n"
          ]
        }
      ],
      "source": [
        "# Memory preallocation\n",
        "results = []\n",
        "names = []\n",
        "# Hide warnings\n",
        "warnings.simplefilter('ignore', FitFailedWarning)\n",
        "# Run the estimatior function into model dictionary\n",
        "results_cv = estimator_function(models_opt)\n",
        "print(results)"
      ]
    },
    {
      "cell_type": "code",
      "execution_count": null,
      "metadata": {
        "id": "eFtE7gtf5WoF",
        "colab": {
          "base_uri": "https://localhost:8080/"
        },
        "outputId": "293f4586-b766-4afe-ffe5-2aeef7092a5b"
      },
      "outputs": [
        {
          "output_type": "stream",
          "name": "stdout",
          "text": [
            "Cross Validation GuassianNB  balanced accuracy: 0.511675\n"
          ]
        }
      ],
      "source": [
        "# Guassian Naive Bayes classifier does not require optimization. It will be run \n",
        "# separately without gridsearch and append the performance results to the \n",
        "# results and names lists.\n",
        "\n",
        "GNB =  GaussianNB()\n",
        "cv = StratifiedKFold(n_splits=10, shuffle=True, random_state=42)\n",
        "# Run cross validation\n",
        "cv_results_GNB= cross_val_score(GNB,x, y, cv = cv, n_jobs=-1,\n",
        "                                scoring = make_scorer(balanced_accuracy_score))\n",
        "msg = \"Cross Validation GuassianNB  balanced accuracy: %f\" % ( cv_results_GNB.mean())\n",
        "print(msg)\n",
        "# Append results and names lists\n",
        "results.append(cv_results_GNB)\n",
        "names.append('GNB')"
      ]
    },
    {
      "cell_type": "code",
      "execution_count": null,
      "metadata": {
        "id": "zNeoM9nE6HUK",
        "colab": {
          "base_uri": "https://localhost:8080/"
        },
        "outputId": "0365ef6a-4875-49f3-d88a-ec387fd61d98"
      },
      "outputs": [
        {
          "output_type": "stream",
          "name": "stdout",
          "text": [
            "Cross Validation Voting balanced accuracy: 0.449312\n"
          ]
        }
      ],
      "source": [
        "# Ensemble Voting\n",
        "  \n",
        "# Create lists for estimator names and objects\n",
        "estimators = []\n",
        "model2 = DecisionTreeClassifier()\n",
        "estimators.append((\"DTC\", model2))\n",
        "model3 = SVC()\n",
        "estimators.append((\"SVC\", model3))\n",
        "model4 = KNeighborsClassifier()\n",
        "estimators.append((\"KNN\", model4))\n",
        "model5 = RandomForestClassifier()\n",
        "estimators.append((\"RFC\", model5))\n",
        "model6 = GaussianNB()\n",
        "estimators.append((\"NBC\", model6))\n",
        "model7 = GradientBoostingClassifier()\n",
        "estimators.append((\"GBC\", model7)) \n",
        "model8 = ExtraTreesClassifier()\n",
        "estimators.append((\"ETC\", model8))\n",
        "\n",
        "# Generate voting\n",
        "voting = VotingClassifier(estimators,  n_jobs=-1)\n",
        "\n",
        "# Print results\n",
        "results_voting = cross_val_score(voting, x, y, cv=cv,  n_jobs=-1,\n",
        "                                 scoring=make_scorer(balanced_accuracy_score))\n",
        "results.append(results_voting)\n",
        "names.append('Voting')\n",
        "msg = \"Cross Validation Voting balanced accuracy: %f\" % ( results_voting.mean())\n",
        "print(msg)"
      ]
    },
    {
      "cell_type": "code",
      "execution_count": null,
      "metadata": {
        "id": "nFf8hK-fWOaP",
        "colab": {
          "base_uri": "https://localhost:8080/"
        },
        "outputId": "b473e537-48fb-40c0-c76f-26c884befa58"
      },
      "outputs": [
        {
          "output_type": "stream",
          "name": "stdout",
          "text": [
            "[array([0.59551444, 0.5979815 , 0.58968321, 0.56932997, 0.56063218,\n",
            "       0.56283525, 0.65210728, 0.61781609, 0.59655172, 0.5651341 ]), array([0.40723297, 0.45320998, 0.46027474, 0.46363891, 0.46082375,\n",
            "       0.51216475, 0.50105364, 0.49454023, 0.44971264, 0.49875479]), array([0.444351  , 0.37275021, 0.44648164, 0.44754696, 0.44597701,\n",
            "       0.39319923, 0.38342912, 0.42749042, 0.4052682 , 0.36542146]), array([0.4445192 , 0.49772918, 0.45264929, 0.52071769, 0.41369732,\n",
            "       0.45842912, 0.47931034, 0.40229885, 0.39568966, 0.46781609]), array([0.45657415, 0.46134006, 0.46947014, 0.45674236, 0.49042146,\n",
            "       0.51072797, 0.49319923, 0.46408046, 0.46408046, 0.49980843]), array([0.36445192, 0.32873563, 0.36691898, 0.38884216, 0.37777778,\n",
            "       0.35881226, 0.35047893, 0.375     , 0.35047893, 0.35      ]), array([0.53041772, 0.55800392, 0.5928231 , 0.53378189, 0.44022989,\n",
            "       0.49109195, 0.45909962, 0.44070881, 0.52356322, 0.54703065]), array([0.41396131, 0.4312868 , 0.44984581, 0.47743202, 0.4348659 ,\n",
            "       0.41858238, 0.47231801, 0.47883142, 0.41264368, 0.50335249])]\n",
            "['SVM', 'RFC', 'KNN', 'DTC', 'ETC', 'GBC', 'GNB', 'Voting']\n"
          ]
        }
      ],
      "source": [
        "print(results)\n",
        "print(names)"
      ]
    },
    {
      "cell_type": "code",
      "execution_count": null,
      "metadata": {
        "id": "VSngEtvr8laF",
        "colab": {
          "base_uri": "https://localhost:8080/",
          "height": 285
        },
        "outputId": "f3bf1dd8-eca8-4b50-cda7-8bb168814e3d"
      },
      "outputs": [
        {
          "output_type": "display_data",
          "data": {
            "text/plain": [
              "<Figure size 432x288 with 1 Axes>"
            ],
            "image/png": "[encoded data removed]"
          },
          "metadata": {}
        }
      ],
      "source": [
        "# Visualize model bma for comparision\n",
        "\n",
        "plt.boxplot(results, labels = names)\n",
        "plt.title('Skin Lesion Classification BMA')\n",
        "plt.ylabel('Model BMA %')\n",
        "sns.set_style(\"whitegrid\")\n",
        "plt.ylim(0.1,1)\n",
        "plt.grid('-')\n",
        "plt.show()"
      ]
    },
    {
      "cell_type": "markdown",
      "source": [
        "We can see the performance of all the selected classifier algorithms and the one with the best results is SVM classifier, in second place Gaussian Naives Bayes and in third a tie between Random Forest and ExtraTrees."
      ],
      "metadata": {
        "id": "979j4ylca6Ta"
      }
    },
    {
      "cell_type": "markdown",
      "source": [
        "# First Test\n",
        "\n",
        "Fit the best model (RFC classifier) without any change in their hyperparameters.\n",
        "\n",
        "Test its performance with the test set."
      ],
      "metadata": {
        "id": "29rSoCiyTt8a"
      }
    },
    {
      "cell_type": "code",
      "source": [
        "\n",
        "# Instantiate a new SVC model\n",
        "SVC_model = SVC(random_state=42)\n",
        "\n",
        "# Fit SVC model to the entire training data\n",
        "fit = SVC_model.fit(x, y)\n",
        "\n",
        "# Test SVC model on test data\n",
        "SVC_predicted = SVC_model.predict(x_test)\n",
        "print('SVC analyis Balanced Accuracy is: {}'.format(balanced_accuracy_score(y_test, SVC_predicted )))"
      ],
      "metadata": {
        "colab": {
          "base_uri": "https://localhost:8080/"
        },
        "id": "GOhEg10uT4no",
        "outputId": "52276fc5-b1d7-48b5-c7bf-622425bd1bef"
      },
      "execution_count": null,
      "outputs": [
        {
          "output_type": "stream",
          "name": "stdout",
          "text": [
            "RFC analyis Balanced Accuracy is: 0.3398860398860399\n"
          ]
        }
      ]
    },
    {
      "cell_type": "code",
      "source": [
        "cm_SVC = pd.DataFrame(confusion_matrix(y_test, SVC_predicted), \n",
        "                      index = ['Nevus','Melanoma','Seborrheic'], \n",
        "                      columns = ['P_Nevus','P_Melanoma','P_Seborrheic'] )\n",
        "\n",
        "print('SVC Model Confusion Matrix')\n",
        "cm_SVC"
      ],
      "metadata": {
        "colab": {
          "base_uri": "https://localhost:8080/",
          "height": 161
        },
        "id": "RGqCzPL5UoNY",
        "outputId": "5193bc8a-bf7d-4ad1-e2a2-c60dca13c672"
      },
      "execution_count": null,
      "outputs": [
        {
          "output_type": "stream",
          "name": "stdout",
          "text": [
            "SVC Model Confusion Matrix\n"
          ]
        },
        {
          "output_type": "execute_result",
          "data": {
            "text/plain": [
              "            P_Nevus  P_Melanoma  P_Seborrheic\n",
              "Nevus           393           0             0\n",
              "Melanoma        114           1             2\n",
              "Seborrheic       89           0             1"
            ],
            "text/html": [
              "\n",
              "  <div id=\"df-69c51754-3481-4689-ac24-74cfc109fd9a\">\n",
              "    <div class=\"colab-df-container\">\n",
              "      <div>\n",
              "<style scoped>\n",
              "    .dataframe tbody tr th:only-of-type {\n",
              "        vertical-align: middle;\n",
              "    }\n",
              "\n",
              "    .dataframe tbody tr th {\n",
              "        vertical-align: top;\n",
              "    }\n",
              "\n",
              "    .dataframe thead th {\n",
              "        text-align: right;\n",
              "    }\n",
              "</style>\n",
              "<table border=\"1\" class=\"dataframe\">\n",
              "  <thead>\n",
              "    <tr style=\"text-align: right;\">\n",
              "      <th></th>\n",
              "      <th>P_Nevus</th>\n",
              "      <th>P_Melanoma</th>\n",
              "      <th>P_Seborrheic</th>\n",
              "    </tr>\n",
              "  </thead>\n",
              "  <tbody>\n",
              "    <tr>\n",
              "      <th>Nevus</th>\n",
              "      <td>393</td>\n",
              "      <td>0</td>\n",
              "      <td>0</td>\n",
              "    </tr>\n",
              "    <tr>\n",
              "      <th>Melanoma</th>\n",
              "      <td>114</td>\n",
              "      <td>1</td>\n",
              "      <td>2</td>\n",
              "    </tr>\n",
              "    <tr>\n",
              "      <th>Seborrheic</th>\n",
              "      <td>89</td>\n",
              "      <td>0</td>\n",
              "      <td>1</td>\n",
              "    </tr>\n",
              "  </tbody>\n",
              "</table>\n",
              "</div>\n",
              "      <button class=\"colab-df-convert\" onclick=\"convertToInteractive('df-69c51754-3481-4689-ac24-74cfc109fd9a')\"\n",
              "              title=\"Convert this dataframe to an interactive table.\"\n",
              "              style=\"display:none;\">\n",
              "        \n",
              "  <svg xmlns=\"http://www.w3.org/2000/svg\" height=\"24px\"viewBox=\"0 0 24 24\"\n",
              "       width=\"24px\">\n",
              "    <path d=\"M0 0h24v24H0V0z\" fill=\"none\"/>\n",
              "    <path d=\"M18.56 5.44l.94 2.06.94-2.06 2.06-.94-2.06-.94-.94-2.06-.94 2.06-2.06.94zm-11 1L8.5 8.5l.94-2.06 2.06-.94-2.06-.94L8.5 2.5l-.94 2.06-2.06.94zm10 10l.94 2.06.94-2.06 2.06-.94-2.06-.94-.94-2.06-.94 2.06-2.06.94z\"/><path d=\"M17.41 7.96l-1.37-1.37c-.4-.4-.92-.59-1.43-.59-.52 0-1.04.2-1.43.59L10.3 9.45l-7.72 7.72c-.78.78-.78 2.05 0 2.83L4 21.41c.39.39.9.59 1.41.59.51 0 1.02-.2 1.41-.59l7.78-7.78 2.81-2.81c.8-.78.8-2.07 0-2.86zM5.41 20L4 18.59l7.72-7.72 1.47 1.35L5.41 20z\"/>\n",
              "  </svg>\n",
              "      </button>\n",
              "      \n",
              "  <style>\n",
              "    .colab-df-container {\n",
              "      display:flex;\n",
              "      flex-wrap:wrap;\n",
              "      gap: 12px;\n",
              "    }\n",
              "\n",
              "    .colab-df-convert {\n",
              "      background-color: #E8F0FE;\n",
              "      border: none;\n",
              "      border-radius: 50%;\n",
              "      cursor: pointer;\n",
              "      display: none;\n",
              "      fill: #1967D2;\n",
              "      height: 32px;\n",
              "      padding: 0 0 0 0;\n",
              "      width: 32px;\n",
              "    }\n",
              "\n",
              "    .colab-df-convert:hover {\n",
              "      background-color: #E2EBFA;\n",
              "      box-shadow: 0px 1px 2px rgba(60, 64, 67, 0.3), 0px 1px 3px 1px rgba(60, 64, 67, 0.15);\n",
              "      fill: #174EA6;\n",
              "    }\n",
              "\n",
              "    [theme=dark] .colab-df-convert {\n",
              "      background-color: #3B4455;\n",
              "      fill: #D2E3FC;\n",
              "    }\n",
              "\n",
              "    [theme=dark] .colab-df-convert:hover {\n",
              "      background-color: #434B5C;\n",
              "      box-shadow: 0px 1px 3px 1px rgba(0, 0, 0, 0.15);\n",
              "      filter: drop-shadow(0px 1px 2px rgba(0, 0, 0, 0.3));\n",
              "      fill: #FFFFFF;\n",
              "    }\n",
              "  </style>\n",
              "\n",
              "      <script>\n",
              "        const buttonEl =\n",
              "          document.querySelector('#df-69c51754-3481-4689-ac24-74cfc109fd9a button.colab-df-convert');\n",
              "        buttonEl.style.display =\n",
              "          google.colab.kernel.accessAllowed ? 'block' : 'none';\n",
              "\n",
              "        async function convertToInteractive(key) {\n",
              "          const element = document.querySelector('#df-69c51754-3481-4689-ac24-74cfc109fd9a');\n",
              "          const dataTable =\n",
              "            await google.colab.kernel.invokeFunction('convertToInteractive',\n",
              "                                                     [key], {});\n",
              "          if (!dataTable) return;\n",
              "\n",
              "          const docLinkHtml = 'Like what you see? Visit the ' +\n",
              "            '<a target=\"_blank\" href=https://colab.research.google.com/notebooks/data_table.ipynb>data table notebook</a>'\n",
              "            + ' to learn more about interactive tables.';\n",
              "          element.innerHTML = '';\n",
              "          dataTable['output_type'] = 'display_data';\n",
              "          await google.colab.output.renderOutput(dataTable, element);\n",
              "          const docLink = document.createElement('div');\n",
              "          docLink.innerHTML = docLinkHtml;\n",
              "          element.appendChild(docLink);\n",
              "        }\n",
              "      </script>\n",
              "    </div>\n",
              "  </div>\n",
              "  "
            ]
          },
          "metadata": {},
          "execution_count": 12
        }
      ]
    },
    {
      "cell_type": "code",
      "source": [
        "show_metrics(y_test, SVC_predicted)\n",
        "BMA = balanced_accuracy_score(y_test, SVC_predicted)\n",
        "print(\"Balanced accuracy of %0.2f%%\" % (BMA * 100))\n",
        "plot_confusion_matrix(fit, x_test, y_test, cmap = plt.cm.Blues)"
      ],
      "metadata": {
        "colab": {
          "base_uri": "https://localhost:8080/",
          "height": 818
        },
        "id": "iLD5D-mOV89c",
        "outputId": "d3c32209-6c7d-46b5-e87f-1ba5aba80e3b"
      },
      "execution_count": null,
      "outputs": [
        {
          "output_type": "stream",
          "name": "stdout",
          "text": [
            "F1: 0.53  -- prec: 0.68  -- recall: 0.66  -- acc: 0.66  -- bma: 0.34\n"
          ]
        },
        {
          "output_type": "display_data",
          "data": {
            "text/plain": [
              "<Figure size 432x288 with 1 Axes>"
            ],
            "image/png": "[encoded data removed]"
          },
          "metadata": {
            "needs_background": "light"
          }
        },
        {
          "output_type": "display_data",
          "data": {
            "text/plain": [
              "                    0           1          2  accuracy   macro avg  \\\n",
              "precision    0.659396    1.000000   0.333333  0.658333    0.664243   \n",
              "recall       1.000000    0.008547   0.011111  0.658333    0.339886   \n",
              "f1-score     0.794742    0.016949   0.021505  0.658333    0.277732   \n",
              "support    393.000000  117.000000  90.000000  0.658333  600.000000   \n",
              "\n",
              "           weighted avg  \n",
              "precision      0.676904  \n",
              "recall         0.658333  \n",
              "f1-score       0.527087  \n",
              "support      600.000000  "
            ],
            "text/html": [
              "\n",
              "  <div id=\"df-41260997-53b5-4c7e-a4d2-11d8d197c3ab\">\n",
              "    <div class=\"colab-df-container\">\n",
              "      <div>\n",
              "<style scoped>\n",
              "    .dataframe tbody tr th:only-of-type {\n",
              "        vertical-align: middle;\n",
              "    }\n",
              "\n",
              "    .dataframe tbody tr th {\n",
              "        vertical-align: top;\n",
              "    }\n",
              "\n",
              "    .dataframe thead th {\n",
              "        text-align: right;\n",
              "    }\n",
              "</style>\n",
              "<table border=\"1\" class=\"dataframe\">\n",
              "  <thead>\n",
              "    <tr style=\"text-align: right;\">\n",
              "      <th></th>\n",
              "      <th>0</th>\n",
              "      <th>1</th>\n",
              "      <th>2</th>\n",
              "      <th>accuracy</th>\n",
              "      <th>macro avg</th>\n",
              "      <th>weighted avg</th>\n",
              "    </tr>\n",
              "  </thead>\n",
              "  <tbody>\n",
              "    <tr>\n",
              "      <th>precision</th>\n",
              "      <td>0.659396</td>\n",
              "      <td>1.000000</td>\n",
              "      <td>0.333333</td>\n",
              "      <td>0.658333</td>\n",
              "      <td>0.664243</td>\n",
              "      <td>0.676904</td>\n",
              "    </tr>\n",
              "    <tr>\n",
              "      <th>recall</th>\n",
              "      <td>1.000000</td>\n",
              "      <td>0.008547</td>\n",
              "      <td>0.011111</td>\n",
              "      <td>0.658333</td>\n",
              "      <td>0.339886</td>\n",
              "      <td>0.658333</td>\n",
              "    </tr>\n",
              "    <tr>\n",
              "      <th>f1-score</th>\n",
              "      <td>0.794742</td>\n",
              "      <td>0.016949</td>\n",
              "      <td>0.021505</td>\n",
              "      <td>0.658333</td>\n",
              "      <td>0.277732</td>\n",
              "      <td>0.527087</td>\n",
              "    </tr>\n",
              "    <tr>\n",
              "      <th>support</th>\n",
              "      <td>393.000000</td>\n",
              "      <td>117.000000</td>\n",
              "      <td>90.000000</td>\n",
              "      <td>0.658333</td>\n",
              "      <td>600.000000</td>\n",
              "      <td>600.000000</td>\n",
              "    </tr>\n",
              "  </tbody>\n",
              "</table>\n",
              "</div>\n",
              "      <button class=\"colab-df-convert\" onclick=\"convertToInteractive('df-41260997-53b5-4c7e-a4d2-11d8d197c3ab')\"\n",
              "              title=\"Convert this dataframe to an interactive table.\"\n",
              "              style=\"display:none;\">\n",
              "        \n",
              "  <svg xmlns=\"http://www.w3.org/2000/svg\" height=\"24px\"viewBox=\"0 0 24 24\"\n",
              "       width=\"24px\">\n",
              "    <path d=\"M0 0h24v24H0V0z\" fill=\"none\"/>\n",
              "    <path d=\"M18.56 5.44l.94 2.06.94-2.06 2.06-.94-2.06-.94-.94-2.06-.94 2.06-2.06.94zm-11 1L8.5 8.5l.94-2.06 2.06-.94-2.06-.94L8.5 2.5l-.94 2.06-2.06.94zm10 10l.94 2.06.94-2.06 2.06-.94-2.06-.94-.94-2.06-.94 2.06-2.06.94z\"/><path d=\"M17.41 7.96l-1.37-1.37c-.4-.4-.92-.59-1.43-.59-.52 0-1.04.2-1.43.59L10.3 9.45l-7.72 7.72c-.78.78-.78 2.05 0 2.83L4 21.41c.39.39.9.59 1.41.59.51 0 1.02-.2 1.41-.59l7.78-7.78 2.81-2.81c.8-.78.8-2.07 0-2.86zM5.41 20L4 18.59l7.72-7.72 1.47 1.35L5.41 20z\"/>\n",
              "  </svg>\n",
              "      </button>\n",
              "      \n",
              "  <style>\n",
              "    .colab-df-container {\n",
              "      display:flex;\n",
              "      flex-wrap:wrap;\n",
              "      gap: 12px;\n",
              "    }\n",
              "\n",
              "    .colab-df-convert {\n",
              "      background-color: #E8F0FE;\n",
              "      border: none;\n",
              "      border-radius: 50%;\n",
              "      cursor: pointer;\n",
              "      display: none;\n",
              "      fill: #1967D2;\n",
              "      height: 32px;\n",
              "      padding: 0 0 0 0;\n",
              "      width: 32px;\n",
              "    }\n",
              "\n",
              "    .colab-df-convert:hover {\n",
              "      background-color: #E2EBFA;\n",
              "      box-shadow: 0px 1px 2px rgba(60, 64, 67, 0.3), 0px 1px 3px 1px rgba(60, 64, 67, 0.15);\n",
              "      fill: #174EA6;\n",
              "    }\n",
              "\n",
              "    [theme=dark] .colab-df-convert {\n",
              "      background-color: #3B4455;\n",
              "      fill: #D2E3FC;\n",
              "    }\n",
              "\n",
              "    [theme=dark] .colab-df-convert:hover {\n",
              "      background-color: #434B5C;\n",
              "      box-shadow: 0px 1px 3px 1px rgba(0, 0, 0, 0.15);\n",
              "      filter: drop-shadow(0px 1px 2px rgba(0, 0, 0, 0.3));\n",
              "      fill: #FFFFFF;\n",
              "    }\n",
              "  </style>\n",
              "\n",
              "      <script>\n",
              "        const buttonEl =\n",
              "          document.querySelector('#df-41260997-53b5-4c7e-a4d2-11d8d197c3ab button.colab-df-convert');\n",
              "        buttonEl.style.display =\n",
              "          google.colab.kernel.accessAllowed ? 'block' : 'none';\n",
              "\n",
              "        async function convertToInteractive(key) {\n",
              "          const element = document.querySelector('#df-41260997-53b5-4c7e-a4d2-11d8d197c3ab');\n",
              "          const dataTable =\n",
              "            await google.colab.kernel.invokeFunction('convertToInteractive',\n",
              "                                                     [key], {});\n",
              "          if (!dataTable) return;\n",
              "\n",
              "          const docLinkHtml = 'Like what you see? Visit the ' +\n",
              "            '<a target=\"_blank\" href=https://colab.research.google.com/notebooks/data_table.ipynb>data table notebook</a>'\n",
              "            + ' to learn more about interactive tables.';\n",
              "          element.innerHTML = '';\n",
              "          dataTable['output_type'] = 'display_data';\n",
              "          await google.colab.output.renderOutput(dataTable, element);\n",
              "          const docLink = document.createElement('div');\n",
              "          docLink.innerHTML = docLinkHtml;\n",
              "          element.appendChild(docLink);\n",
              "        }\n",
              "      </script>\n",
              "    </div>\n",
              "  </div>\n",
              "  "
            ]
          },
          "metadata": {}
        },
        {
          "output_type": "stream",
          "name": "stdout",
          "text": [
            "Balanced accuracy of 33.99%\n"
          ]
        },
        {
          "output_type": "stream",
          "name": "stderr",
          "text": [
            "/usr/local/lib/python3.7/dist-packages/sklearn/utils/deprecation.py:87: FutureWarning: Function plot_confusion_matrix is deprecated; Function `plot_confusion_matrix` is deprecated in 1.0 and will be removed in 1.2. Use one of the class methods: ConfusionMatrixDisplay.from_predictions or ConfusionMatrixDisplay.from_estimator.\n",
            "  warnings.warn(msg, category=FutureWarning)\n"
          ]
        },
        {
          "output_type": "execute_result",
          "data": {
            "text/plain": [
              "<sklearn.metrics._plot.confusion_matrix.ConfusionMatrixDisplay at 0x7fac01a88090>"
            ]
          },
          "metadata": {},
          "execution_count": 13
        },
        {
          "output_type": "display_data",
          "data": {
            "text/plain": [
              "<Figure size 432x288 with 2 Axes>"
            ],
            "image/png": "[encoded data removed]"
          },
          "metadata": {
            "needs_background": "light"
          }
        }
      ]
    },
    {
      "cell_type": "markdown",
      "source": [
        "#Tune Model Hyperparameters\n",
        "\n",
        "Find the best parameters for the selected classifier. For this model we wil use Random Forest."
      ],
      "metadata": {
        "id": "rALYxqnlXxh4"
      }
    },
    {
      "cell_type": "code",
      "source": [
        "# Stratified 10-fold cross validation\n",
        "cv = StratifiedKFold(n_splits=10, shuffle=True, random_state=42)\n",
        "SVC_pipe = (\n",
        "            Pipeline([('classifier', SVC(random_state=42))]),\n",
        "            {'classifier__C': (100, 1000,  50),              \n",
        "             'classifier__gamma':['scale', 'auto'],\n",
        "             'classifier__class_weight':['balanced']}\n",
        "        )\n",
        "\n",
        "pipe, parameters = SVC_pipe\n",
        "print (\"Pipeline: \\n\", pipe)\n",
        "print (\"Parameters: \\n\", parameters)\n",
        "# Hide warnings\n",
        "warnings.simplefilter('ignore', FitFailedWarning)\n",
        "with warnings.catch_warnings(record=False) as w:\n",
        "  try:      \n",
        "    grid_search = GridSearchCV(pipe, parameters, cv=cv, n_jobs=-1)\n",
        "    # Train model\n",
        "    grid_search.fit(x, y)\n",
        "  except ValueError:\n",
        "          pass\n",
        "# Here we just print the best accuracy and the corresponding values for the parameters\n",
        "print(\"The best parameters are %s with an accuracy of %0.4f in model SVC\" % (grid_search.best_params_, grid_search.best_score_))"
      ],
      "metadata": {
        "colab": {
          "base_uri": "https://localhost:8080/"
        },
        "id": "-5fO_MzvXnv1",
        "outputId": "5fc1538f-54e8-47dc-febe-0f751f811def"
      },
      "execution_count": null,
      "outputs": [
        {
          "output_type": "stream",
          "name": "stdout",
          "text": [
            "Pipeline: \n",
            " Pipeline(steps=[('classifier', SVC())])\n",
            "Parameters: \n",
            " {'classifier__C': (100, 1000, 50), 'classifier__gamma': ['scale', 'auto'], 'classifier__class_weight': ['balanced']}\n",
            "The best parameters are {'classifier__C': 1000, 'classifier__class_weight': 'balanced', 'classifier__gamma': 'scale'} with an accuracy of 0.6400 in model SVC\n"
          ]
        }
      ]
    },
    {
      "cell_type": "markdown",
      "source": [
        "# Second Test\n",
        "Test the performance of the hyperparameters tuning."
      ],
      "metadata": {
        "id": "MuSxDt2bmg6K"
      }
    },
    {
      "cell_type": "code",
      "source": [
        "# Instantiate a new RFC model\n",
        "SVC_model = SVC(C=1000, gamma='scale', class_weight='balanced', random_state=42)\n",
        "\n",
        "# Fit SVC model to the entire training data\n",
        "fit = SVC_model.fit(x, y)\n",
        "\n",
        "# Test SVC model on test data\n",
        "SVC_predicted = SVC_model.predict(x_test)\n",
        "print('SVC analyis Balanced Accuracy is: {}'.format(balanced_accuracy_score(y_test, SVC_predicted )))"
      ],
      "metadata": {
        "colab": {
          "base_uri": "https://localhost:8080/"
        },
        "id": "KejneNIqmjFt",
        "outputId": "d17f6015-5da5-4fce-f1df-7ea586196633"
      },
      "execution_count": null,
      "outputs": [
        {
          "output_type": "stream",
          "name": "stdout",
          "text": [
            "SVC analyis Balanced Accuracy is: 0.5946847610969749\n"
          ]
        }
      ]
    },
    {
      "cell_type": "code",
      "source": [
        "cm_SVC = pd.DataFrame(confusion_matrix(y_test, SVC_predicted), \n",
        "                      index = ['Nevus','Melanoma','Seborrheic'], \n",
        "                      columns = ['P_Nevus','P_Melanoma','P_Seborrheic'] )\n",
        "\n",
        "print('SVC Model Confusion Matrix')\n",
        "cm_SVC"
      ],
      "metadata": {
        "colab": {
          "base_uri": "https://localhost:8080/",
          "height": 161
        },
        "id": "0mnJ7OoQnjJE",
        "outputId": "f893839f-53df-47d3-e908-fdc7b04ceb03"
      },
      "execution_count": null,
      "outputs": [
        {
          "output_type": "stream",
          "name": "stdout",
          "text": [
            "SVC Model Confusion Matrix\n"
          ]
        },
        {
          "output_type": "execute_result",
          "data": {
            "text/plain": [
              "            P_Nevus  P_Melanoma  P_Seborrheic\n",
              "Nevus           247          77            69\n",
              "Melanoma         36          52            29\n",
              "Seborrheic       12          14            64"
            ],
            "text/html": [
              "\n",
              "  <div id=\"df-1b66ce57-d6ba-4241-8a0e-40bc70d83e44\">\n",
              "    <div class=\"colab-df-container\">\n",
              "      <div>\n",
              "<style scoped>\n",
              "    .dataframe tbody tr th:only-of-type {\n",
              "        vertical-align: middle;\n",
              "    }\n",
              "\n",
              "    .dataframe tbody tr th {\n",
              "        vertical-align: top;\n",
              "    }\n",
              "\n",
              "    .dataframe thead th {\n",
              "        text-align: right;\n",
              "    }\n",
              "</style>\n",
              "<table border=\"1\" class=\"dataframe\">\n",
              "  <thead>\n",
              "    <tr style=\"text-align: right;\">\n",
              "      <th></th>\n",
              "      <th>P_Nevus</th>\n",
              "      <th>P_Melanoma</th>\n",
              "      <th>P_Seborrheic</th>\n",
              "    </tr>\n",
              "  </thead>\n",
              "  <tbody>\n",
              "    <tr>\n",
              "      <th>Nevus</th>\n",
              "      <td>247</td>\n",
              "      <td>77</td>\n",
              "      <td>69</td>\n",
              "    </tr>\n",
              "    <tr>\n",
              "      <th>Melanoma</th>\n",
              "      <td>36</td>\n",
              "      <td>52</td>\n",
              "      <td>29</td>\n",
              "    </tr>\n",
              "    <tr>\n",
              "      <th>Seborrheic</th>\n",
              "      <td>12</td>\n",
              "      <td>14</td>\n",
              "      <td>64</td>\n",
              "    </tr>\n",
              "  </tbody>\n",
              "</table>\n",
              "</div>\n",
              "      <button class=\"colab-df-convert\" onclick=\"convertToInteractive('df-1b66ce57-d6ba-4241-8a0e-40bc70d83e44')\"\n",
              "              title=\"Convert this dataframe to an interactive table.\"\n",
              "              style=\"display:none;\">\n",
              "        \n",
              "  <svg xmlns=\"http://www.w3.org/2000/svg\" height=\"24px\"viewBox=\"0 0 24 24\"\n",
              "       width=\"24px\">\n",
              "    <path d=\"M0 0h24v24H0V0z\" fill=\"none\"/>\n",
              "    <path d=\"M18.56 5.44l.94 2.06.94-2.06 2.06-.94-2.06-.94-.94-2.06-.94 2.06-2.06.94zm-11 1L8.5 8.5l.94-2.06 2.06-.94-2.06-.94L8.5 2.5l-.94 2.06-2.06.94zm10 10l.94 2.06.94-2.06 2.06-.94-2.06-.94-.94-2.06-.94 2.06-2.06.94z\"/><path d=\"M17.41 7.96l-1.37-1.37c-.4-.4-.92-.59-1.43-.59-.52 0-1.04.2-1.43.59L10.3 9.45l-7.72 7.72c-.78.78-.78 2.05 0 2.83L4 21.41c.39.39.9.59 1.41.59.51 0 1.02-.2 1.41-.59l7.78-7.78 2.81-2.81c.8-.78.8-2.07 0-2.86zM5.41 20L4 18.59l7.72-7.72 1.47 1.35L5.41 20z\"/>\n",
              "  </svg>\n",
              "      </button>\n",
              "      \n",
              "  <style>\n",
              "    .colab-df-container {\n",
              "      display:flex;\n",
              "      flex-wrap:wrap;\n",
              "      gap: 12px;\n",
              "    }\n",
              "\n",
              "    .colab-df-convert {\n",
              "      background-color: #E8F0FE;\n",
              "      border: none;\n",
              "      border-radius: 50%;\n",
              "      cursor: pointer;\n",
              "      display: none;\n",
              "      fill: #1967D2;\n",
              "      height: 32px;\n",
              "      padding: 0 0 0 0;\n",
              "      width: 32px;\n",
              "    }\n",
              "\n",
              "    .colab-df-convert:hover {\n",
              "      background-color: #E2EBFA;\n",
              "      box-shadow: 0px 1px 2px rgba(60, 64, 67, 0.3), 0px 1px 3px 1px rgba(60, 64, 67, 0.15);\n",
              "      fill: #174EA6;\n",
              "    }\n",
              "\n",
              "    [theme=dark] .colab-df-convert {\n",
              "      background-color: #3B4455;\n",
              "      fill: #D2E3FC;\n",
              "    }\n",
              "\n",
              "    [theme=dark] .colab-df-convert:hover {\n",
              "      background-color: #434B5C;\n",
              "      box-shadow: 0px 1px 3px 1px rgba(0, 0, 0, 0.15);\n",
              "      filter: drop-shadow(0px 1px 2px rgba(0, 0, 0, 0.3));\n",
              "      fill: #FFFFFF;\n",
              "    }\n",
              "  </style>\n",
              "\n",
              "      <script>\n",
              "        const buttonEl =\n",
              "          document.querySelector('#df-1b66ce57-d6ba-4241-8a0e-40bc70d83e44 button.colab-df-convert');\n",
              "        buttonEl.style.display =\n",
              "          google.colab.kernel.accessAllowed ? 'block' : 'none';\n",
              "\n",
              "        async function convertToInteractive(key) {\n",
              "          const element = document.querySelector('#df-1b66ce57-d6ba-4241-8a0e-40bc70d83e44');\n",
              "          const dataTable =\n",
              "            await google.colab.kernel.invokeFunction('convertToInteractive',\n",
              "                                                     [key], {});\n",
              "          if (!dataTable) return;\n",
              "\n",
              "          const docLinkHtml = 'Like what you see? Visit the ' +\n",
              "            '<a target=\"_blank\" href=https://colab.research.google.com/notebooks/data_table.ipynb>data table notebook</a>'\n",
              "            + ' to learn more about interactive tables.';\n",
              "          element.innerHTML = '';\n",
              "          dataTable['output_type'] = 'display_data';\n",
              "          await google.colab.output.renderOutput(dataTable, element);\n",
              "          const docLink = document.createElement('div');\n",
              "          docLink.innerHTML = docLinkHtml;\n",
              "          element.appendChild(docLink);\n",
              "        }\n",
              "      </script>\n",
              "    </div>\n",
              "  </div>\n",
              "  "
            ]
          },
          "metadata": {},
          "execution_count": 15
        }
      ]
    },
    {
      "cell_type": "code",
      "source": [
        "show_metrics(y_test, SVC_predicted)\n",
        "BMA = balanced_accuracy_score(y_test, SVC_predicted)\n",
        "print(\"Balanced accuracy of %0.2f%%\" % (BMA * 100))\n",
        "plot_confusion_matrix(fit, x_test, y_test, cmap = plt.cm.Blues)"
      ],
      "metadata": {
        "colab": {
          "base_uri": "https://localhost:8080/",
          "height": 818
        },
        "id": "LgSzelDnnwZ7",
        "outputId": "d5e51bbe-4f6b-4b08-ed80-2b015451f0a8"
      },
      "execution_count": null,
      "outputs": [
        {
          "output_type": "stream",
          "name": "stdout",
          "text": [
            "F1: 0.62  -- prec: 0.68  -- recall: 0.60  -- acc: 0.60  -- bma: 0.59\n"
          ]
        },
        {
          "output_type": "display_data",
          "data": {
            "text/plain": [
              "<Figure size 432x288 with 1 Axes>"
            ],
            "image/png": "[encoded data removed]"
          },
          "metadata": {
            "needs_background": "light"
          }
        },
        {
          "output_type": "display_data",
          "data": {
            "text/plain": [
              "                    0           1          2  accuracy   macro avg  \\\n",
              "precision    0.837288    0.363636   0.395062     0.605    0.531995   \n",
              "recall       0.628499    0.444444   0.711111     0.605    0.594685   \n",
              "f1-score     0.718023    0.400000   0.507937     0.605    0.541987   \n",
              "support    393.000000  117.000000  90.000000     0.605  600.000000   \n",
              "\n",
              "           weighted avg  \n",
              "precision      0.678592  \n",
              "recall         0.605000  \n",
              "f1-score       0.624496  \n",
              "support      600.000000  "
            ],
            "text/html": [
              "\n",
              "  <div id=\"df-ad1183fc-42fc-42ce-9cb1-79f2f526eb22\">\n",
              "    <div class=\"colab-df-container\">\n",
              "      <div>\n",
              "<style scoped>\n",
              "    .dataframe tbody tr th:only-of-type {\n",
              "        vertical-align: middle;\n",
              "    }\n",
              "\n",
              "    .dataframe tbody tr th {\n",
              "        vertical-align: top;\n",
              "    }\n",
              "\n",
              "    .dataframe thead th {\n",
              "        text-align: right;\n",
              "    }\n",
              "</style>\n",
              "<table border=\"1\" class=\"dataframe\">\n",
              "  <thead>\n",
              "    <tr style=\"text-align: right;\">\n",
              "      <th></th>\n",
              "      <th>0</th>\n",
              "      <th>1</th>\n",
              "      <th>2</th>\n",
              "      <th>accuracy</th>\n",
              "      <th>macro avg</th>\n",
              "      <th>weighted avg</th>\n",
              "    </tr>\n",
              "  </thead>\n",
              "  <tbody>\n",
              "    <tr>\n",
              "      <th>precision</th>\n",
              "      <td>0.837288</td>\n",
              "      <td>0.363636</td>\n",
              "      <td>0.395062</td>\n",
              "      <td>0.605</td>\n",
              "      <td>0.531995</td>\n",
              "      <td>0.678592</td>\n",
              "    </tr>\n",
              "    <tr>\n",
              "      <th>recall</th>\n",
              "      <td>0.628499</td>\n",
              "      <td>0.444444</td>\n",
              "      <td>0.711111</td>\n",
              "      <td>0.605</td>\n",
              "      <td>0.594685</td>\n",
              "      <td>0.605000</td>\n",
              "    </tr>\n",
              "    <tr>\n",
              "      <th>f1-score</th>\n",
              "      <td>0.718023</td>\n",
              "      <td>0.400000</td>\n",
              "      <td>0.507937</td>\n",
              "      <td>0.605</td>\n",
              "      <td>0.541987</td>\n",
              "      <td>0.624496</td>\n",
              "    </tr>\n",
              "    <tr>\n",
              "      <th>support</th>\n",
              "      <td>393.000000</td>\n",
              "      <td>117.000000</td>\n",
              "      <td>90.000000</td>\n",
              "      <td>0.605</td>\n",
              "      <td>600.000000</td>\n",
              "      <td>600.000000</td>\n",
              "    </tr>\n",
              "  </tbody>\n",
              "</table>\n",
              "</div>\n",
              "      <button class=\"colab-df-convert\" onclick=\"convertToInteractive('df-ad1183fc-42fc-42ce-9cb1-79f2f526eb22')\"\n",
              "              title=\"Convert this dataframe to an interactive table.\"\n",
              "              style=\"display:none;\">\n",
              "        \n",
              "  <svg xmlns=\"http://www.w3.org/2000/svg\" height=\"24px\"viewBox=\"0 0 24 24\"\n",
              "       width=\"24px\">\n",
              "    <path d=\"M0 0h24v24H0V0z\" fill=\"none\"/>\n",
              "    <path d=\"M18.56 5.44l.94 2.06.94-2.06 2.06-.94-2.06-.94-.94-2.06-.94 2.06-2.06.94zm-11 1L8.5 8.5l.94-2.06 2.06-.94-2.06-.94L8.5 2.5l-.94 2.06-2.06.94zm10 10l.94 2.06.94-2.06 2.06-.94-2.06-.94-.94-2.06-.94 2.06-2.06.94z\"/><path d=\"M17.41 7.96l-1.37-1.37c-.4-.4-.92-.59-1.43-.59-.52 0-1.04.2-1.43.59L10.3 9.45l-7.72 7.72c-.78.78-.78 2.05 0 2.83L4 21.41c.39.39.9.59 1.41.59.51 0 1.02-.2 1.41-.59l7.78-7.78 2.81-2.81c.8-.78.8-2.07 0-2.86zM5.41 20L4 18.59l7.72-7.72 1.47 1.35L5.41 20z\"/>\n",
              "  </svg>\n",
              "      </button>\n",
              "      \n",
              "  <style>\n",
              "    .colab-df-container {\n",
              "      display:flex;\n",
              "      flex-wrap:wrap;\n",
              "      gap: 12px;\n",
              "    }\n",
              "\n",
              "    .colab-df-convert {\n",
              "      background-color: #E8F0FE;\n",
              "      border: none;\n",
              "      border-radius: 50%;\n",
              "      cursor: pointer;\n",
              "      display: none;\n",
              "      fill: #1967D2;\n",
              "      height: 32px;\n",
              "      padding: 0 0 0 0;\n",
              "      width: 32px;\n",
              "    }\n",
              "\n",
              "    .colab-df-convert:hover {\n",
              "      background-color: #E2EBFA;\n",
              "      box-shadow: 0px 1px 2px rgba(60, 64, 67, 0.3), 0px 1px 3px 1px rgba(60, 64, 67, 0.15);\n",
              "      fill: #174EA6;\n",
              "    }\n",
              "\n",
              "    [theme=dark] .colab-df-convert {\n",
              "      background-color: #3B4455;\n",
              "      fill: #D2E3FC;\n",
              "    }\n",
              "\n",
              "    [theme=dark] .colab-df-convert:hover {\n",
              "      background-color: #434B5C;\n",
              "      box-shadow: 0px 1px 3px 1px rgba(0, 0, 0, 0.15);\n",
              "      filter: drop-shadow(0px 1px 2px rgba(0, 0, 0, 0.3));\n",
              "      fill: #FFFFFF;\n",
              "    }\n",
              "  </style>\n",
              "\n",
              "      <script>\n",
              "        const buttonEl =\n",
              "          document.querySelector('#df-ad1183fc-42fc-42ce-9cb1-79f2f526eb22 button.colab-df-convert');\n",
              "        buttonEl.style.display =\n",
              "          google.colab.kernel.accessAllowed ? 'block' : 'none';\n",
              "\n",
              "        async function convertToInteractive(key) {\n",
              "          const element = document.querySelector('#df-ad1183fc-42fc-42ce-9cb1-79f2f526eb22');\n",
              "          const dataTable =\n",
              "            await google.colab.kernel.invokeFunction('convertToInteractive',\n",
              "                                                     [key], {});\n",
              "          if (!dataTable) return;\n",
              "\n",
              "          const docLinkHtml = 'Like what you see? Visit the ' +\n",
              "            '<a target=\"_blank\" href=https://colab.research.google.com/notebooks/data_table.ipynb>data table notebook</a>'\n",
              "            + ' to learn more about interactive tables.';\n",
              "          element.innerHTML = '';\n",
              "          dataTable['output_type'] = 'display_data';\n",
              "          await google.colab.output.renderOutput(dataTable, element);\n",
              "          const docLink = document.createElement('div');\n",
              "          docLink.innerHTML = docLinkHtml;\n",
              "          element.appendChild(docLink);\n",
              "        }\n",
              "      </script>\n",
              "    </div>\n",
              "  </div>\n",
              "  "
            ]
          },
          "metadata": {}
        },
        {
          "output_type": "stream",
          "name": "stdout",
          "text": [
            "Balanced accuracy of 59.47%\n"
          ]
        },
        {
          "output_type": "stream",
          "name": "stderr",
          "text": [
            "/usr/local/lib/python3.7/dist-packages/sklearn/utils/deprecation.py:87: FutureWarning: Function plot_confusion_matrix is deprecated; Function `plot_confusion_matrix` is deprecated in 1.0 and will be removed in 1.2. Use one of the class methods: ConfusionMatrixDisplay.from_predictions or ConfusionMatrixDisplay.from_estimator.\n",
            "  warnings.warn(msg, category=FutureWarning)\n"
          ]
        },
        {
          "output_type": "execute_result",
          "data": {
            "text/plain": [
              "<sklearn.metrics._plot.confusion_matrix.ConfusionMatrixDisplay at 0x7f0dc529e4d0>"
            ]
          },
          "metadata": {},
          "execution_count": 42
        },
        {
          "output_type": "display_data",
          "data": {
            "text/plain": [
              "<Figure size 432x288 with 2 Axes>"
            ],
            "image/png": "[encoded data removed]"
          },
          "metadata": {
            "needs_background": "light"
          }
        }
      ]
    },
    {
      "cell_type": "markdown",
      "metadata": {
        "id": "wjnITUP5qlab"
      },
      "source": [
        "# Dimensionality reduction + Feature selection\n",
        "Apply PCA for dimensionality reduction and for feature reduction we use SelectKbest wth chi2 approach."
      ]
    },
    {
      "cell_type": "code",
      "execution_count": null,
      "metadata": {
        "colab": {
          "base_uri": "https://localhost:8080/"
        },
        "id": "3WfX_wt6qpGQ",
        "outputId": "52bdb730-3732-4c4e-f19a-0c7c96b1d688"
      },
      "outputs": [
        {
          "output_type": "stream",
          "name": "stdout",
          "text": [
            "\n",
            "Maximum prediction balanced accuracy equal to 44.84% corresponding to 3 selected features and 1 components\n",
            "\n",
            "Maximum prediction balanced accuracy equal to 45.04% corresponding to 4 selected features and 1 components\n",
            "\n",
            "Maximum prediction balanced accuracy equal to 46.10% corresponding to 4 selected features and 2 components\n",
            "\n",
            "Maximum prediction balanced accuracy equal to 47.50% corresponding to 5 selected features and 2 components\n",
            "\n",
            "Maximum prediction balanced accuracy equal to 48.07% corresponding to 7 selected features and 4 components\n",
            "\n",
            "Maximum prediction balanced accuracy equal to 49.20% corresponding to 7 selected features and 5 components\n",
            "\n",
            "Maximum prediction balanced accuracy equal to 49.43% corresponding to 9 selected features and 4 components\n",
            "\n",
            "Maximum prediction balanced accuracy equal to 52.40% corresponding to 9 selected features and 6 components\n",
            "\n",
            "Maximum prediction balanced accuracy equal to 53.73% corresponding to 9 selected features and 7 components\n",
            "\n",
            "Maximum prediction balanced accuracy equal to 55.82% corresponding to 11 selected features and 8 components\n",
            "\n",
            "Maximum prediction balanced accuracy equal to 55.97% corresponding to 14 selected features and 9 components\n",
            "\n",
            "Maximum prediction balanced accuracy equal to 56.22% corresponding to 15 selected features and 12 components\n",
            "\n",
            "Maximum prediction balanced accuracy equal to 56.51% corresponding to 16 selected features and 14 components\n",
            "\n",
            "Maximum prediction balanced accuracy equal to 56.76% corresponding to 17 selected features and 11 components\n",
            "\n",
            "Maximum prediction balanced accuracy equal to 56.82% corresponding to 17 selected features and 13 components\n",
            "\n",
            "Maximum prediction balanced accuracy equal to 56.93% corresponding to 17 selected features and 15 components\n",
            "\n",
            "Maximum prediction balanced accuracy equal to 57.90% corresponding to 25 selected features and 12 components\n",
            "\n",
            "Maximum prediction balanced accuracy equal to 58.35% corresponding to 26 selected features and 21 components\n",
            "\n",
            "Maximum prediction balanced accuracy equal to 58.83% corresponding to 26 selected features and 22 components\n",
            "\n",
            "Maximum prediction balanced accuracy equal to 59.09% corresponding to 30 selected features and 13 components\n",
            "\n",
            "Maximum prediction balanced accuracy equal to 60.40% corresponding to 30 selected features and 14 components\n",
            "\n",
            "Maximum prediction balanced accuracy equal to 61.94% corresponding to 30 selected features and 16 components\n",
            "\n",
            "Maximum prediction balanced accuracy equal to 62.23% corresponding to 30 selected features and 17 components\n",
            "\n",
            "Maximum prediction balanced accuracy equal to 62.37% corresponding to 32 selected features and 15 components\n",
            "\n",
            "Maximum prediction balanced accuracy equal to 62.91% corresponding to 51 selected features and 24 components\n",
            "\n",
            "Maximum prediction balanced accuracy equal to 63.20% corresponding to 51 selected features and 26 components\n",
            "\n",
            "Maximum prediction balanced accuracy equal to 63.65% corresponding to 53 selected features and 20 components\n",
            "\n",
            "Maximum prediction balanced accuracy equal to 63.88% corresponding to 54 selected features and 25 components\n",
            "\n",
            "Maximum prediction balanced accuracy equal to 64.02% corresponding to 56 selected features and 19 components\n",
            "\n",
            "Maximum prediction balanced accuracy equal to 64.79% corresponding to 56 selected features and 20 components\n",
            "\n",
            "Maximum prediction balanced accuracy equal to 64.90% corresponding to 56 selected features and 25 components\n",
            "\n",
            "Maximum prediction balanced accuracy equal to 64.90% corresponding to 56 selected features and 25 components\n"
          ]
        }
      ],
      "source": [
        "#In clf you write down your classifier previously selected before\n",
        "clf = SVC_model\n",
        "\n",
        "ax_test_acc=0\n",
        "feat_selected=0\n",
        "pca_components=0\n",
        "max_test_acc = 0\n",
        "\n",
        "for ind_sel in range(1,x.shape[1]): #Check all the features \n",
        "  \n",
        "  for ind_pca in range(1,ind_sel-1): #The number of components is, at most, equal to the number of features minus 1\n",
        "    #A pipeline can be created adding an element to be used in feature engineering or classifiation with fixed or variable parameters \n",
        "    pipe = Pipeline([('feat_select', SelectKBest(chi2,k=ind_sel)), \n",
        "                     ('reduce_dim', PCA(n_components=ind_pca)), \n",
        "                     ('classifier', clf)])\n",
        "    \n",
        "    #With a pipeline we can fit the training set and then predict the test set\n",
        "    pipe.fit(x,y)\n",
        "    scores = pipe.predict(x_test)\n",
        "    \n",
        "    #Evaluate the performance and find the maximum with corresponding indexes\n",
        "    current_acc = balanced_accuracy_score(y_test, scores)\n",
        "    if current_acc>max_test_acc:\n",
        "      max_test_acc = current_acc\n",
        "      feat_selected = ind_sel\n",
        "      pca_components = ind_pca\n",
        "      print(\"\\nMaximum prediction balanced accuracy equal to {0:.2%} corresponding to {1} selected features and {2} components\".format(max_test_acc,feat_selected,pca_components))\n",
        "\n",
        "print(\"\\nMaximum prediction balanced accuracy equal to {0:.2%} corresponding to {1} selected features and {2} components\".format(max_test_acc,feat_selected,pca_components))"
      ]
    },
    {
      "cell_type": "code",
      "execution_count": null,
      "metadata": {
        "colab": {
          "base_uri": "https://localhost:8080/"
        },
        "id": "_Q7fi_-0q7jY",
        "outputId": "384b2de3-3cd1-40a3-97c6-ce6428023a99"
      },
      "outputs": [
        {
          "output_type": "stream",
          "name": "stdout",
          "text": [
            "Selected features:\n",
            "['glcm_contrast_1' 'glcm_contrast_2' 'glcm_dissimilarity_1'\n",
            " 'glcm_dissimilarity_2' 'lbp_81_ror_2' 'lbp_81_ror_3' 'lbp_81_ror_4'\n",
            " 'lbp_81_ror_5' 'lbp_81_ror_13' 'lbp_81_ror_14' 'lbp_81_ror_16'\n",
            " 'lbp_81_ror_17' 'lbp_81_ror_19' 'lbp_81_ror_28' 'lbp_81_ror_34'\n",
            " 'lbp_81_ror_35' 'lbp_82_ror_2' 'lbp_82_ror_3' 'lbp_82_ror_5'\n",
            " 'lbp_82_ror_7' 'lbp_82_ror_8' 'lbp_82_ror_10' 'lbp_82_ror_11'\n",
            " 'lbp_82_ror_12' 'lbp_82_ror_13' 'lbp_82_ror_14' 'lbp_82_ror_15'\n",
            " 'lbp_82_ror_16' 'lbp_82_ror_17' 'lbp_82_ror_19' 'lbp_82_ror_20'\n",
            " 'lbp_82_ror_22' 'lbp_82_ror_24' 'lbp_82_ror_25' 'lbp_82_ror_26'\n",
            " 'lbp_82_ror_27' 'lbp_82_ror_28' 'lbp_82_ror_30' 'lbp_82_ror_31'\n",
            " 'lbp_82_ror_34' 'lbp_82_ror_35' 'lbp_162_uni_3' 'lbp_162_uni_4'\n",
            " 'lbp_162_uni_5' 'lbp_162_uni_6' 'lbp_162_uni_7' 'lbp_162_uni_10'\n",
            " 'lbp_162_uni_11' 'lbp_162_uni_12' 'lbp_162_uni_13' 'lbp_162_uni_14'\n",
            " 'lbp_162_uni_15' 'lbp_162_uni_16' 'lbp_162_uni_18' 'mean_color_g'\n",
            " 'mean_color_b']\n",
            "0.9995616367581426\n"
          ]
        }
      ],
      "source": [
        "select=SelectKBest(chi2, k=feat_selected)\n",
        "x_best=select.fit_transform(x,y)\n",
        "selected_ft =select.get_feature_names_out(features.keys())\n",
        "\n",
        "print(\"Selected features:\\n\"+str(selected_ft))\n",
        "pca=PCA(n_components=pca_components)\n",
        "pca.fit(x_best)\n",
        "print(sum(pca.explained_variance_ratio_))"
      ]
    },
    {
      "cell_type": "markdown",
      "source": [
        "# Third Test\n",
        "\n",
        "Test the performance of the Dimensionality reduction and feature selection with the selected tuning classifier model."
      ],
      "metadata": {
        "id": "WXb1KPudmOhB"
      }
    },
    {
      "cell_type": "code",
      "source": [
        "data2 = pd.DataFrame(x)\n",
        "data2.set_axis(x_header, axis=1, inplace=True)\n",
        "data2_test = pd.DataFrame(x_test)\n",
        "data2_test.set_axis(x_header, axis=1, inplace=True)\n",
        "Y_data2 = pd.DataFrame(y)\n",
        "Y_data2.set_axis(['label'], axis=1,inplace=True)\n",
        "Y_data2_test = pd.DataFrame(y_test)\n",
        "Y_data2_test.set_axis(['label'], axis=1,inplace=True)\n",
        "\n",
        "#Take only the selected features\n",
        "data2 = data2[selected_ft]\n",
        "data2_test = data2_test[selected_ft]\n",
        "#Order the data merged (train  + validation sets)\n",
        "x_reduced = pd.merge(data2, Y_data2, left_index=True,right_index=True) \n",
        "x_reduced = x_reduced.drop('label',axis=1).to_numpy()\n",
        "\n",
        "x_reduced_test = pd.merge(data2_test, Y_data2_test, left_index=True,right_index=True)\n",
        "x_reduced_test = x_reduced_test.drop('label',axis=1).to_numpy()"
      ],
      "metadata": {
        "id": "g8lkBJgWrSKf"
      },
      "execution_count": null,
      "outputs": []
    },
    {
      "cell_type": "code",
      "execution_count": null,
      "metadata": {
        "colab": {
          "base_uri": "https://localhost:8080/",
          "height": 852
        },
        "id": "_RzolDTDrdd_",
        "outputId": "66e8e903-3fc6-4e13-98df-07531c1e711f"
      },
      "outputs": [
        {
          "output_type": "stream",
          "name": "stderr",
          "text": [
            "/usr/local/lib/python3.7/dist-packages/sklearn/utils/validation.py:993: DataConversionWarning: A column-vector y was passed when a 1d array was expected. Please change the shape of y to (n_samples, ), for example using ravel().\n",
            "  y = column_or_1d(y, warn=True)\n"
          ]
        },
        {
          "output_type": "stream",
          "name": "stdout",
          "text": [
            "F1: 0.67  -- prec: 0.71  -- recall: 0.65  -- acc: 0.65  -- bma: 0.65\n"
          ]
        },
        {
          "output_type": "display_data",
          "data": {
            "text/plain": [
              "<Figure size 432x288 with 1 Axes>"
            ],
            "image/png": "[encoded data removed]"
          },
          "metadata": {
            "needs_background": "light"
          }
        },
        {
          "output_type": "display_data",
          "data": {
            "text/plain": [
              "                    0           1          2  accuracy   macro avg  \\\n",
              "precision    0.852459    0.446043   0.435897      0.65    0.578133   \n",
              "recall       0.661578    0.529915   0.755556      0.65    0.649016   \n",
              "f1-score     0.744986    0.484375   0.552846      0.65    0.594069   \n",
              "support    393.000000  117.000000  90.000000      0.65  600.000000   \n",
              "\n",
              "           weighted avg  \n",
              "precision      0.710724  \n",
              "recall         0.650000  \n",
              "f1-score       0.665346  \n",
              "support      600.000000  "
            ],
            "text/html": [
              "\n",
              "  <div id=\"df-89f7c4e5-9563-492e-910f-6a1e6a550cf5\">\n",
              "    <div class=\"colab-df-container\">\n",
              "      <div>\n",
              "<style scoped>\n",
              "    .dataframe tbody tr th:only-of-type {\n",
              "        vertical-align: middle;\n",
              "    }\n",
              "\n",
              "    .dataframe tbody tr th {\n",
              "        vertical-align: top;\n",
              "    }\n",
              "\n",
              "    .dataframe thead th {\n",
              "        text-align: right;\n",
              "    }\n",
              "</style>\n",
              "<table border=\"1\" class=\"dataframe\">\n",
              "  <thead>\n",
              "    <tr style=\"text-align: right;\">\n",
              "      <th></th>\n",
              "      <th>0</th>\n",
              "      <th>1</th>\n",
              "      <th>2</th>\n",
              "      <th>accuracy</th>\n",
              "      <th>macro avg</th>\n",
              "      <th>weighted avg</th>\n",
              "    </tr>\n",
              "  </thead>\n",
              "  <tbody>\n",
              "    <tr>\n",
              "      <th>precision</th>\n",
              "      <td>0.852459</td>\n",
              "      <td>0.446043</td>\n",
              "      <td>0.435897</td>\n",
              "      <td>0.65</td>\n",
              "      <td>0.578133</td>\n",
              "      <td>0.710724</td>\n",
              "    </tr>\n",
              "    <tr>\n",
              "      <th>recall</th>\n",
              "      <td>0.661578</td>\n",
              "      <td>0.529915</td>\n",
              "      <td>0.755556</td>\n",
              "      <td>0.65</td>\n",
              "      <td>0.649016</td>\n",
              "      <td>0.650000</td>\n",
              "    </tr>\n",
              "    <tr>\n",
              "      <th>f1-score</th>\n",
              "      <td>0.744986</td>\n",
              "      <td>0.484375</td>\n",
              "      <td>0.552846</td>\n",
              "      <td>0.65</td>\n",
              "      <td>0.594069</td>\n",
              "      <td>0.665346</td>\n",
              "    </tr>\n",
              "    <tr>\n",
              "      <th>support</th>\n",
              "      <td>393.000000</td>\n",
              "      <td>117.000000</td>\n",
              "      <td>90.000000</td>\n",
              "      <td>0.65</td>\n",
              "      <td>600.000000</td>\n",
              "      <td>600.000000</td>\n",
              "    </tr>\n",
              "  </tbody>\n",
              "</table>\n",
              "</div>\n",
              "      <button class=\"colab-df-convert\" onclick=\"convertToInteractive('df-89f7c4e5-9563-492e-910f-6a1e6a550cf5')\"\n",
              "              title=\"Convert this dataframe to an interactive table.\"\n",
              "              style=\"display:none;\">\n",
              "        \n",
              "  <svg xmlns=\"http://www.w3.org/2000/svg\" height=\"24px\"viewBox=\"0 0 24 24\"\n",
              "       width=\"24px\">\n",
              "    <path d=\"M0 0h24v24H0V0z\" fill=\"none\"/>\n",
              "    <path d=\"M18.56 5.44l.94 2.06.94-2.06 2.06-.94-2.06-.94-.94-2.06-.94 2.06-2.06.94zm-11 1L8.5 8.5l.94-2.06 2.06-.94-2.06-.94L8.5 2.5l-.94 2.06-2.06.94zm10 10l.94 2.06.94-2.06 2.06-.94-2.06-.94-.94-2.06-.94 2.06-2.06.94z\"/><path d=\"M17.41 7.96l-1.37-1.37c-.4-.4-.92-.59-1.43-.59-.52 0-1.04.2-1.43.59L10.3 9.45l-7.72 7.72c-.78.78-.78 2.05 0 2.83L4 21.41c.39.39.9.59 1.41.59.51 0 1.02-.2 1.41-.59l7.78-7.78 2.81-2.81c.8-.78.8-2.07 0-2.86zM5.41 20L4 18.59l7.72-7.72 1.47 1.35L5.41 20z\"/>\n",
              "  </svg>\n",
              "      </button>\n",
              "      \n",
              "  <style>\n",
              "    .colab-df-container {\n",
              "      display:flex;\n",
              "      flex-wrap:wrap;\n",
              "      gap: 12px;\n",
              "    }\n",
              "\n",
              "    .colab-df-convert {\n",
              "      background-color: #E8F0FE;\n",
              "      border: none;\n",
              "      border-radius: 50%;\n",
              "      cursor: pointer;\n",
              "      display: none;\n",
              "      fill: #1967D2;\n",
              "      height: 32px;\n",
              "      padding: 0 0 0 0;\n",
              "      width: 32px;\n",
              "    }\n",
              "\n",
              "    .colab-df-convert:hover {\n",
              "      background-color: #E2EBFA;\n",
              "      box-shadow: 0px 1px 2px rgba(60, 64, 67, 0.3), 0px 1px 3px 1px rgba(60, 64, 67, 0.15);\n",
              "      fill: #174EA6;\n",
              "    }\n",
              "\n",
              "    [theme=dark] .colab-df-convert {\n",
              "      background-color: #3B4455;\n",
              "      fill: #D2E3FC;\n",
              "    }\n",
              "\n",
              "    [theme=dark] .colab-df-convert:hover {\n",
              "      background-color: #434B5C;\n",
              "      box-shadow: 0px 1px 3px 1px rgba(0, 0, 0, 0.15);\n",
              "      filter: drop-shadow(0px 1px 2px rgba(0, 0, 0, 0.3));\n",
              "      fill: #FFFFFF;\n",
              "    }\n",
              "  </style>\n",
              "\n",
              "      <script>\n",
              "        const buttonEl =\n",
              "          document.querySelector('#df-89f7c4e5-9563-492e-910f-6a1e6a550cf5 button.colab-df-convert');\n",
              "        buttonEl.style.display =\n",
              "          google.colab.kernel.accessAllowed ? 'block' : 'none';\n",
              "\n",
              "        async function convertToInteractive(key) {\n",
              "          const element = document.querySelector('#df-89f7c4e5-9563-492e-910f-6a1e6a550cf5');\n",
              "          const dataTable =\n",
              "            await google.colab.kernel.invokeFunction('convertToInteractive',\n",
              "                                                     [key], {});\n",
              "          if (!dataTable) return;\n",
              "\n",
              "          const docLinkHtml = 'Like what you see? Visit the ' +\n",
              "            '<a target=\"_blank\" href=https://colab.research.google.com/notebooks/data_table.ipynb>data table notebook</a>'\n",
              "            + ' to learn more about interactive tables.';\n",
              "          element.innerHTML = '';\n",
              "          dataTable['output_type'] = 'display_data';\n",
              "          await google.colab.output.renderOutput(dataTable, element);\n",
              "          const docLink = document.createElement('div');\n",
              "          docLink.innerHTML = docLinkHtml;\n",
              "          element.appendChild(docLink);\n",
              "        }\n",
              "      </script>\n",
              "    </div>\n",
              "  </div>\n",
              "  "
            ]
          },
          "metadata": {}
        },
        {
          "output_type": "stream",
          "name": "stdout",
          "text": [
            "Balanced accuracy of 64.90%\n"
          ]
        },
        {
          "output_type": "stream",
          "name": "stderr",
          "text": [
            "/usr/local/lib/python3.7/dist-packages/sklearn/utils/deprecation.py:87: FutureWarning: Function plot_confusion_matrix is deprecated; Function `plot_confusion_matrix` is deprecated in 1.0 and will be removed in 1.2. Use one of the class methods: ConfusionMatrixDisplay.from_predictions or ConfusionMatrixDisplay.from_estimator.\n",
            "  warnings.warn(msg, category=FutureWarning)\n"
          ]
        },
        {
          "output_type": "execute_result",
          "data": {
            "text/plain": [
              "<sklearn.metrics._plot.confusion_matrix.ConfusionMatrixDisplay at 0x7f0dc4d764d0>"
            ]
          },
          "metadata": {},
          "execution_count": 46
        },
        {
          "output_type": "display_data",
          "data": {
            "text/plain": [
              "<Figure size 432x288 with 2 Axes>"
            ],
            "image/png": "[encoded data removed]"
          },
          "metadata": {
            "needs_background": "light"
          }
        }
      ],
      "source": [
        "pipe = Pipeline([('feat_select', SelectKBest(chi2, k=feat_selected)),\n",
        "                 ('reduce_dim', PCA(n_components=pca_components)),\n",
        "                 ('classifier', clf)])\n",
        "\n",
        "fit = pipe.fit(x_reduced, Y_data2)\n",
        "ypred = pipe.predict(x_reduced_test)\n",
        "show_metrics(y_test, ypred)\n",
        "BMA = balanced_accuracy_score(y_test, ypred)\n",
        "print(\"Balanced accuracy of %0.2f%%\" % (BMA * 100))\n",
        "plot_confusion_matrix(fit, x_reduced_test, y_test, cmap = plt.cm.Blues)"
      ]
    },
    {
      "cell_type": "code",
      "source": [
        "cm_SVC = pd.DataFrame(confusion_matrix(y_test, ypred), \n",
        "                      index = ['Nevus','Melanoma','Seborrheic'], \n",
        "                      columns = ['P_Nevus','P_Melanoma','P_Seborrheic'] )\n",
        "\n",
        "print('SVC Model Confusion Matrix')\n",
        "cm_SVC"
      ],
      "metadata": {
        "colab": {
          "base_uri": "https://localhost:8080/",
          "height": 161
        },
        "id": "CU7w2Ynxl1eB",
        "outputId": "4ccb58cb-ab88-4beb-db4a-d9e7643f9c92"
      },
      "execution_count": null,
      "outputs": [
        {
          "output_type": "stream",
          "name": "stdout",
          "text": [
            "SVC Model Confusion Matrix\n"
          ]
        },
        {
          "output_type": "execute_result",
          "data": {
            "text/plain": [
              "            P_Nevus  P_Melanoma  P_Seborrheic\n",
              "Nevus           260          65            68\n",
              "Melanoma         35          62            20\n",
              "Seborrheic       10          12            68"
            ],
            "text/html": [
              "\n",
              "  <div id=\"df-7ab1f151-e6da-42ca-85d1-e5b1796046bd\">\n",
              "    <div class=\"colab-df-container\">\n",
              "      <div>\n",
              "<style scoped>\n",
              "    .dataframe tbody tr th:only-of-type {\n",
              "        vertical-align: middle;\n",
              "    }\n",
              "\n",
              "    .dataframe tbody tr th {\n",
              "        vertical-align: top;\n",
              "    }\n",
              "\n",
              "    .dataframe thead th {\n",
              "        text-align: right;\n",
              "    }\n",
              "</style>\n",
              "<table border=\"1\" class=\"dataframe\">\n",
              "  <thead>\n",
              "    <tr style=\"text-align: right;\">\n",
              "      <th></th>\n",
              "      <th>P_Nevus</th>\n",
              "      <th>P_Melanoma</th>\n",
              "      <th>P_Seborrheic</th>\n",
              "    </tr>\n",
              "  </thead>\n",
              "  <tbody>\n",
              "    <tr>\n",
              "      <th>Nevus</th>\n",
              "      <td>260</td>\n",
              "      <td>65</td>\n",
              "      <td>68</td>\n",
              "    </tr>\n",
              "    <tr>\n",
              "      <th>Melanoma</th>\n",
              "      <td>35</td>\n",
              "      <td>62</td>\n",
              "      <td>20</td>\n",
              "    </tr>\n",
              "    <tr>\n",
              "      <th>Seborrheic</th>\n",
              "      <td>10</td>\n",
              "      <td>12</td>\n",
              "      <td>68</td>\n",
              "    </tr>\n",
              "  </tbody>\n",
              "</table>\n",
              "</div>\n",
              "      <button class=\"colab-df-convert\" onclick=\"convertToInteractive('df-7ab1f151-e6da-42ca-85d1-e5b1796046bd')\"\n",
              "              title=\"Convert this dataframe to an interactive table.\"\n",
              "              style=\"display:none;\">\n",
              "        \n",
              "  <svg xmlns=\"http://www.w3.org/2000/svg\" height=\"24px\"viewBox=\"0 0 24 24\"\n",
              "       width=\"24px\">\n",
              "    <path d=\"M0 0h24v24H0V0z\" fill=\"none\"/>\n",
              "    <path d=\"M18.56 5.44l.94 2.06.94-2.06 2.06-.94-2.06-.94-.94-2.06-.94 2.06-2.06.94zm-11 1L8.5 8.5l.94-2.06 2.06-.94-2.06-.94L8.5 2.5l-.94 2.06-2.06.94zm10 10l.94 2.06.94-2.06 2.06-.94-2.06-.94-.94-2.06-.94 2.06-2.06.94z\"/><path d=\"M17.41 7.96l-1.37-1.37c-.4-.4-.92-.59-1.43-.59-.52 0-1.04.2-1.43.59L10.3 9.45l-7.72 7.72c-.78.78-.78 2.05 0 2.83L4 21.41c.39.39.9.59 1.41.59.51 0 1.02-.2 1.41-.59l7.78-7.78 2.81-2.81c.8-.78.8-2.07 0-2.86zM5.41 20L4 18.59l7.72-7.72 1.47 1.35L5.41 20z\"/>\n",
              "  </svg>\n",
              "      </button>\n",
              "      \n",
              "  <style>\n",
              "    .colab-df-container {\n",
              "      display:flex;\n",
              "      flex-wrap:wrap;\n",
              "      gap: 12px;\n",
              "    }\n",
              "\n",
              "    .colab-df-convert {\n",
              "      background-color: #E8F0FE;\n",
              "      border: none;\n",
              "      border-radius: 50%;\n",
              "      cursor: pointer;\n",
              "      display: none;\n",
              "      fill: #1967D2;\n",
              "      height: 32px;\n",
              "      padding: 0 0 0 0;\n",
              "      width: 32px;\n",
              "    }\n",
              "\n",
              "    .colab-df-convert:hover {\n",
              "      background-color: #E2EBFA;\n",
              "      box-shadow: 0px 1px 2px rgba(60, 64, 67, 0.3), 0px 1px 3px 1px rgba(60, 64, 67, 0.15);\n",
              "      fill: #174EA6;\n",
              "    }\n",
              "\n",
              "    [theme=dark] .colab-df-convert {\n",
              "      background-color: #3B4455;\n",
              "      fill: #D2E3FC;\n",
              "    }\n",
              "\n",
              "    [theme=dark] .colab-df-convert:hover {\n",
              "      background-color: #434B5C;\n",
              "      box-shadow: 0px 1px 3px 1px rgba(0, 0, 0, 0.15);\n",
              "      filter: drop-shadow(0px 1px 2px rgba(0, 0, 0, 0.3));\n",
              "      fill: #FFFFFF;\n",
              "    }\n",
              "  </style>\n",
              "\n",
              "      <script>\n",
              "        const buttonEl =\n",
              "          document.querySelector('#df-7ab1f151-e6da-42ca-85d1-e5b1796046bd button.colab-df-convert');\n",
              "        buttonEl.style.display =\n",
              "          google.colab.kernel.accessAllowed ? 'block' : 'none';\n",
              "\n",
              "        async function convertToInteractive(key) {\n",
              "          const element = document.querySelector('#df-7ab1f151-e6da-42ca-85d1-e5b1796046bd');\n",
              "          const dataTable =\n",
              "            await google.colab.kernel.invokeFunction('convertToInteractive',\n",
              "                                                     [key], {});\n",
              "          if (!dataTable) return;\n",
              "\n",
              "          const docLinkHtml = 'Like what you see? Visit the ' +\n",
              "            '<a target=\"_blank\" href=https://colab.research.google.com/notebooks/data_table.ipynb>data table notebook</a>'\n",
              "            + ' to learn more about interactive tables.';\n",
              "          element.innerHTML = '';\n",
              "          dataTable['output_type'] = 'display_data';\n",
              "          await google.colab.output.renderOutput(dataTable, element);\n",
              "          const docLink = document.createElement('div');\n",
              "          docLink.innerHTML = docLinkHtml;\n",
              "          element.appendChild(docLink);\n",
              "        }\n",
              "      </script>\n",
              "    </div>\n",
              "  </div>\n",
              "  "
            ]
          },
          "metadata": {},
          "execution_count": 53
        }
      ]
    },
    {
      "cell_type": "code",
      "execution_count": null,
      "metadata": {
        "id": "H0xCAgvIoTcT"
      },
      "outputs": [],
      "source": [
        "# while True : pass"
      ]
    },
    {
      "cell_type": "markdown",
      "source": [
        "#Second Tune\n",
        "After the reduction of both, dimensionality and features, we tuned again the classifier in order to achieve de best result."
      ],
      "metadata": {
        "id": "jYdeBPNp-bIX"
      }
    },
    {
      "cell_type": "code",
      "source": [
        "SVC_pipe = (\n",
        "            Pipeline([('classifier', SVC(random_state=42))]),\n",
        "            {'classifier__C': (100, 1000,  50),              \n",
        "             'classifier__gamma':['scale', 'auto'],\n",
        "             'classifier__class_weight':['balanced']}\n",
        "        )\n",
        "\n",
        "pipe, parameters = SVC_pipe\n",
        "print (\"Pipeline: \\n\", pipe)\n",
        "print (\"Parameters: \\n\", parameters)\n",
        "\n",
        "# Hide warnings\n",
        "warnings.simplefilter('ignore', FitFailedWarning)\n",
        "with warnings.catch_warnings(record=False) as w:\n",
        "  try:    \n",
        "      grid_search = GridSearchCV(pipe, parameters, cv=cv, n_jobs=-1)\n",
        "      # Train model\n",
        "      grid_search.fit(x_best, y)\n",
        "  except ValueError:\n",
        "          pass\n",
        "# Here we just print the best accuracy and the corresponding values for the parameters\n",
        "print(\"The best parameters are %s with an accuracy of %0.4f in model SVC\" % (grid_search.best_params_, grid_search.best_score_))"
      ],
      "metadata": {
        "colab": {
          "base_uri": "https://localhost:8080/"
        },
        "id": "dBSF7a3m-fXY",
        "outputId": "9bf9f6e4-008c-4627-8e90-3cd2659bca80"
      },
      "execution_count": null,
      "outputs": [
        {
          "output_type": "stream",
          "name": "stdout",
          "text": [
            "Pipeline: \n",
            " Pipeline(steps=[('classifier', SVC(random_state=42))])\n",
            "Parameters: \n",
            " {'classifier__C': (100, 1000, 50), 'classifier__gamma': ['scale', 'auto'], 'classifier__class_weight': ['balanced']}\n",
            "The best parameters are {'classifier__C': 1000, 'classifier__class_weight': 'balanced', 'classifier__gamma': 'scale'} with an accuracy of 0.6535 in model SVC\n"
          ]
        }
      ]
    },
    {
      "cell_type": "markdown",
      "source": [
        "# Fourth Test\n",
        "\n",
        "Fit the best model (SVM classifier) with all the changes in their hyperparameters, dimensionality and number of features.\n",
        "\n",
        "Test its performance in the test set."
      ],
      "metadata": {
        "id": "TOjJJZsY9huU"
      }
    },
    {
      "cell_type": "code",
      "source": [
        "# Instantiate a new SVC model\n",
        "SVC_model = SVC(C=1000, class_weight='balanced', gamma='scale', random_state=42)\n",
        "\n",
        "# Fit SVC model to the entire training data\n",
        "fit = SVC_model.fit(x_reduced, Y_data2)\n",
        "\n",
        "#Fit test features into the model with only the selected features\n",
        "\n",
        "# Test SVC model on test data\n",
        "SVC_predicted = SVC_model.predict(x_reduced_test)\n",
        "print('SVC analyis Balanced Accuracy is: {}'.format(balanced_accuracy_score(y_test, SVC_predicted )))"
      ],
      "metadata": {
        "colab": {
          "base_uri": "https://localhost:8080/"
        },
        "outputId": "892dfbe6-0c4c-4d59-b740-755b0f127bcf",
        "id": "znaeEP0_9hud"
      },
      "execution_count": null,
      "outputs": [
        {
          "output_type": "stream",
          "name": "stderr",
          "text": [
            "/usr/local/lib/python3.7/dist-packages/sklearn/utils/validation.py:993: DataConversionWarning: A column-vector y was passed when a 1d array was expected. Please change the shape of y to (n_samples, ), for example using ravel().\n",
            "  y = column_or_1d(y, warn=True)\n"
          ]
        },
        {
          "output_type": "stream",
          "name": "stdout",
          "text": [
            "SVC analyis Balanced Accuracy is: 0.6182531915356343\n"
          ]
        }
      ]
    },
    {
      "cell_type": "code",
      "source": [
        "cm_SVC = pd.DataFrame(confusion_matrix(y_test, SVC_predicted), \n",
        "                      index = ['Nevus','Melanoma','Seborrheic'], \n",
        "                      columns = ['P_Nevus','P_Melanoma','P_Seborrheic'] )\n",
        "\n",
        "print('SVC Model Confusion Matrix')\n",
        "cm_SVC"
      ],
      "metadata": {
        "colab": {
          "base_uri": "https://localhost:8080/",
          "height": 161
        },
        "outputId": "28c9d0b7-9cfe-4db9-bb0e-65e2b4cb2d1a",
        "id": "XkxkfkDX9hue"
      },
      "execution_count": null,
      "outputs": [
        {
          "output_type": "stream",
          "name": "stdout",
          "text": [
            "SVC Model Confusion Matrix\n"
          ]
        },
        {
          "output_type": "execute_result",
          "data": {
            "text/plain": [
              "            P_Nevus  P_Melanoma  P_Seborrheic\n",
              "Nevus           259          76            58\n",
              "Melanoma         37          58            22\n",
              "Seborrheic       14          13            63"
            ],
            "text/html": [
              "\n",
              "  <div id=\"df-54d7637b-c8f6-4ae3-a033-b6e01ccf44d4\">\n",
              "    <div class=\"colab-df-container\">\n",
              "      <div>\n",
              "<style scoped>\n",
              "    .dataframe tbody tr th:only-of-type {\n",
              "        vertical-align: middle;\n",
              "    }\n",
              "\n",
              "    .dataframe tbody tr th {\n",
              "        vertical-align: top;\n",
              "    }\n",
              "\n",
              "    .dataframe thead th {\n",
              "        text-align: right;\n",
              "    }\n",
              "</style>\n",
              "<table border=\"1\" class=\"dataframe\">\n",
              "  <thead>\n",
              "    <tr style=\"text-align: right;\">\n",
              "      <th></th>\n",
              "      <th>P_Nevus</th>\n",
              "      <th>P_Melanoma</th>\n",
              "      <th>P_Seborrheic</th>\n",
              "    </tr>\n",
              "  </thead>\n",
              "  <tbody>\n",
              "    <tr>\n",
              "      <th>Nevus</th>\n",
              "      <td>259</td>\n",
              "      <td>76</td>\n",
              "      <td>58</td>\n",
              "    </tr>\n",
              "    <tr>\n",
              "      <th>Melanoma</th>\n",
              "      <td>37</td>\n",
              "      <td>58</td>\n",
              "      <td>22</td>\n",
              "    </tr>\n",
              "    <tr>\n",
              "      <th>Seborrheic</th>\n",
              "      <td>14</td>\n",
              "      <td>13</td>\n",
              "      <td>63</td>\n",
              "    </tr>\n",
              "  </tbody>\n",
              "</table>\n",
              "</div>\n",
              "      <button class=\"colab-df-convert\" onclick=\"convertToInteractive('df-54d7637b-c8f6-4ae3-a033-b6e01ccf44d4')\"\n",
              "              title=\"Convert this dataframe to an interactive table.\"\n",
              "              style=\"display:none;\">\n",
              "        \n",
              "  <svg xmlns=\"http://www.w3.org/2000/svg\" height=\"24px\"viewBox=\"0 0 24 24\"\n",
              "       width=\"24px\">\n",
              "    <path d=\"M0 0h24v24H0V0z\" fill=\"none\"/>\n",
              "    <path d=\"M18.56 5.44l.94 2.06.94-2.06 2.06-.94-2.06-.94-.94-2.06-.94 2.06-2.06.94zm-11 1L8.5 8.5l.94-2.06 2.06-.94-2.06-.94L8.5 2.5l-.94 2.06-2.06.94zm10 10l.94 2.06.94-2.06 2.06-.94-2.06-.94-.94-2.06-.94 2.06-2.06.94z\"/><path d=\"M17.41 7.96l-1.37-1.37c-.4-.4-.92-.59-1.43-.59-.52 0-1.04.2-1.43.59L10.3 9.45l-7.72 7.72c-.78.78-.78 2.05 0 2.83L4 21.41c.39.39.9.59 1.41.59.51 0 1.02-.2 1.41-.59l7.78-7.78 2.81-2.81c.8-.78.8-2.07 0-2.86zM5.41 20L4 18.59l7.72-7.72 1.47 1.35L5.41 20z\"/>\n",
              "  </svg>\n",
              "      </button>\n",
              "      \n",
              "  <style>\n",
              "    .colab-df-container {\n",
              "      display:flex;\n",
              "      flex-wrap:wrap;\n",
              "      gap: 12px;\n",
              "    }\n",
              "\n",
              "    .colab-df-convert {\n",
              "      background-color: #E8F0FE;\n",
              "      border: none;\n",
              "      border-radius: 50%;\n",
              "      cursor: pointer;\n",
              "      display: none;\n",
              "      fill: #1967D2;\n",
              "      height: 32px;\n",
              "      padding: 0 0 0 0;\n",
              "      width: 32px;\n",
              "    }\n",
              "\n",
              "    .colab-df-convert:hover {\n",
              "      background-color: #E2EBFA;\n",
              "      box-shadow: 0px 1px 2px rgba(60, 64, 67, 0.3), 0px 1px 3px 1px rgba(60, 64, 67, 0.15);\n",
              "      fill: #174EA6;\n",
              "    }\n",
              "\n",
              "    [theme=dark] .colab-df-convert {\n",
              "      background-color: #3B4455;\n",
              "      fill: #D2E3FC;\n",
              "    }\n",
              "\n",
              "    [theme=dark] .colab-df-convert:hover {\n",
              "      background-color: #434B5C;\n",
              "      box-shadow: 0px 1px 3px 1px rgba(0, 0, 0, 0.15);\n",
              "      filter: drop-shadow(0px 1px 2px rgba(0, 0, 0, 0.3));\n",
              "      fill: #FFFFFF;\n",
              "    }\n",
              "  </style>\n",
              "\n",
              "      <script>\n",
              "        const buttonEl =\n",
              "          document.querySelector('#df-54d7637b-c8f6-4ae3-a033-b6e01ccf44d4 button.colab-df-convert');\n",
              "        buttonEl.style.display =\n",
              "          google.colab.kernel.accessAllowed ? 'block' : 'none';\n",
              "\n",
              "        async function convertToInteractive(key) {\n",
              "          const element = document.querySelector('#df-54d7637b-c8f6-4ae3-a033-b6e01ccf44d4');\n",
              "          const dataTable =\n",
              "            await google.colab.kernel.invokeFunction('convertToInteractive',\n",
              "                                                     [key], {});\n",
              "          if (!dataTable) return;\n",
              "\n",
              "          const docLinkHtml = 'Like what you see? Visit the ' +\n",
              "            '<a target=\"_blank\" href=https://colab.research.google.com/notebooks/data_table.ipynb>data table notebook</a>'\n",
              "            + ' to learn more about interactive tables.';\n",
              "          element.innerHTML = '';\n",
              "          dataTable['output_type'] = 'display_data';\n",
              "          await google.colab.output.renderOutput(dataTable, element);\n",
              "          const docLink = document.createElement('div');\n",
              "          docLink.innerHTML = docLinkHtml;\n",
              "          element.appendChild(docLink);\n",
              "        }\n",
              "      </script>\n",
              "    </div>\n",
              "  </div>\n",
              "  "
            ]
          },
          "metadata": {},
          "execution_count": 55
        }
      ]
    },
    {
      "cell_type": "code",
      "source": [
        "show_metrics(y_test, SVC_predicted)\n",
        "BMA = balanced_accuracy_score(y_test, SVC_predicted)\n",
        "print(\"Balanced accuracy of %0.2f%%\" % (BMA * 100))\n",
        "plot_confusion_matrix(fit, x_reduced_test, y_test, cmap = plt.cm.Blues)"
      ],
      "metadata": {
        "colab": {
          "base_uri": "https://localhost:8080/",
          "height": 818
        },
        "outputId": "207347fd-a473-4b4c-ecf9-12dbd4447d33",
        "id": "4ZyIpsOd9hue"
      },
      "execution_count": null,
      "outputs": [
        {
          "output_type": "stream",
          "name": "stdout",
          "text": [
            "F1: 0.65  -- prec: 0.69  -- recall: 0.63  -- acc: 0.63  -- bma: 0.62\n"
          ]
        },
        {
          "output_type": "display_data",
          "data": {
            "text/plain": [
              "<Figure size 432x288 with 1 Axes>"
            ],
            "image/png": "[encoded data removed]"
          },
          "metadata": {
            "needs_background": "light"
          }
        },
        {
          "output_type": "display_data",
          "data": {
            "text/plain": [
              "                    0           1          2  accuracy   macro avg  \\\n",
              "precision    0.835484    0.394558   0.440559  0.633333    0.556867   \n",
              "recall       0.659033    0.495726   0.700000  0.633333    0.618253   \n",
              "f1-score     0.736842    0.439394   0.540773  0.633333    0.572336   \n",
              "support    393.000000  117.000000  90.000000  0.633333  600.000000   \n",
              "\n",
              "           weighted avg  \n",
              "precision      0.690265  \n",
              "recall         0.633333  \n",
              "f1-score       0.649429  \n",
              "support      600.000000  "
            ],
            "text/html": [
              "\n",
              "  <div id=\"df-1e3ad729-7e6e-4691-b912-469220690959\">\n",
              "    <div class=\"colab-df-container\">\n",
              "      <div>\n",
              "<style scoped>\n",
              "    .dataframe tbody tr th:only-of-type {\n",
              "        vertical-align: middle;\n",
              "    }\n",
              "\n",
              "    .dataframe tbody tr th {\n",
              "        vertical-align: top;\n",
              "    }\n",
              "\n",
              "    .dataframe thead th {\n",
              "        text-align: right;\n",
              "    }\n",
              "</style>\n",
              "<table border=\"1\" class=\"dataframe\">\n",
              "  <thead>\n",
              "    <tr style=\"text-align: right;\">\n",
              "      <th></th>\n",
              "      <th>0</th>\n",
              "      <th>1</th>\n",
              "      <th>2</th>\n",
              "      <th>accuracy</th>\n",
              "      <th>macro avg</th>\n",
              "      <th>weighted avg</th>\n",
              "    </tr>\n",
              "  </thead>\n",
              "  <tbody>\n",
              "    <tr>\n",
              "      <th>precision</th>\n",
              "      <td>0.835484</td>\n",
              "      <td>0.394558</td>\n",
              "      <td>0.440559</td>\n",
              "      <td>0.633333</td>\n",
              "      <td>0.556867</td>\n",
              "      <td>0.690265</td>\n",
              "    </tr>\n",
              "    <tr>\n",
              "      <th>recall</th>\n",
              "      <td>0.659033</td>\n",
              "      <td>0.495726</td>\n",
              "      <td>0.700000</td>\n",
              "      <td>0.633333</td>\n",
              "      <td>0.618253</td>\n",
              "      <td>0.633333</td>\n",
              "    </tr>\n",
              "    <tr>\n",
              "      <th>f1-score</th>\n",
              "      <td>0.736842</td>\n",
              "      <td>0.439394</td>\n",
              "      <td>0.540773</td>\n",
              "      <td>0.633333</td>\n",
              "      <td>0.572336</td>\n",
              "      <td>0.649429</td>\n",
              "    </tr>\n",
              "    <tr>\n",
              "      <th>support</th>\n",
              "      <td>393.000000</td>\n",
              "      <td>117.000000</td>\n",
              "      <td>90.000000</td>\n",
              "      <td>0.633333</td>\n",
              "      <td>600.000000</td>\n",
              "      <td>600.000000</td>\n",
              "    </tr>\n",
              "  </tbody>\n",
              "</table>\n",
              "</div>\n",
              "      <button class=\"colab-df-convert\" onclick=\"convertToInteractive('df-1e3ad729-7e6e-4691-b912-469220690959')\"\n",
              "              title=\"Convert this dataframe to an interactive table.\"\n",
              "              style=\"display:none;\">\n",
              "        \n",
              "  <svg xmlns=\"http://www.w3.org/2000/svg\" height=\"24px\"viewBox=\"0 0 24 24\"\n",
              "       width=\"24px\">\n",
              "    <path d=\"M0 0h24v24H0V0z\" fill=\"none\"/>\n",
              "    <path d=\"M18.56 5.44l.94 2.06.94-2.06 2.06-.94-2.06-.94-.94-2.06-.94 2.06-2.06.94zm-11 1L8.5 8.5l.94-2.06 2.06-.94-2.06-.94L8.5 2.5l-.94 2.06-2.06.94zm10 10l.94 2.06.94-2.06 2.06-.94-2.06-.94-.94-2.06-.94 2.06-2.06.94z\"/><path d=\"M17.41 7.96l-1.37-1.37c-.4-.4-.92-.59-1.43-.59-.52 0-1.04.2-1.43.59L10.3 9.45l-7.72 7.72c-.78.78-.78 2.05 0 2.83L4 21.41c.39.39.9.59 1.41.59.51 0 1.02-.2 1.41-.59l7.78-7.78 2.81-2.81c.8-.78.8-2.07 0-2.86zM5.41 20L4 18.59l7.72-7.72 1.47 1.35L5.41 20z\"/>\n",
              "  </svg>\n",
              "      </button>\n",
              "      \n",
              "  <style>\n",
              "    .colab-df-container {\n",
              "      display:flex;\n",
              "      flex-wrap:wrap;\n",
              "      gap: 12px;\n",
              "    }\n",
              "\n",
              "    .colab-df-convert {\n",
              "      background-color: #E8F0FE;\n",
              "      border: none;\n",
              "      border-radius: 50%;\n",
              "      cursor: pointer;\n",
              "      display: none;\n",
              "      fill: #1967D2;\n",
              "      height: 32px;\n",
              "      padding: 0 0 0 0;\n",
              "      width: 32px;\n",
              "    }\n",
              "\n",
              "    .colab-df-convert:hover {\n",
              "      background-color: #E2EBFA;\n",
              "      box-shadow: 0px 1px 2px rgba(60, 64, 67, 0.3), 0px 1px 3px 1px rgba(60, 64, 67, 0.15);\n",
              "      fill: #174EA6;\n",
              "    }\n",
              "\n",
              "    [theme=dark] .colab-df-convert {\n",
              "      background-color: #3B4455;\n",
              "      fill: #D2E3FC;\n",
              "    }\n",
              "\n",
              "    [theme=dark] .colab-df-convert:hover {\n",
              "      background-color: #434B5C;\n",
              "      box-shadow: 0px 1px 3px 1px rgba(0, 0, 0, 0.15);\n",
              "      filter: drop-shadow(0px 1px 2px rgba(0, 0, 0, 0.3));\n",
              "      fill: #FFFFFF;\n",
              "    }\n",
              "  </style>\n",
              "\n",
              "      <script>\n",
              "        const buttonEl =\n",
              "          document.querySelector('#df-1e3ad729-7e6e-4691-b912-469220690959 button.colab-df-convert');\n",
              "        buttonEl.style.display =\n",
              "          google.colab.kernel.accessAllowed ? 'block' : 'none';\n",
              "\n",
              "        async function convertToInteractive(key) {\n",
              "          const element = document.querySelector('#df-1e3ad729-7e6e-4691-b912-469220690959');\n",
              "          const dataTable =\n",
              "            await google.colab.kernel.invokeFunction('convertToInteractive',\n",
              "                                                     [key], {});\n",
              "          if (!dataTable) return;\n",
              "\n",
              "          const docLinkHtml = 'Like what you see? Visit the ' +\n",
              "            '<a target=\"_blank\" href=https://colab.research.google.com/notebooks/data_table.ipynb>data table notebook</a>'\n",
              "            + ' to learn more about interactive tables.';\n",
              "          element.innerHTML = '';\n",
              "          dataTable['output_type'] = 'display_data';\n",
              "          await google.colab.output.renderOutput(dataTable, element);\n",
              "          const docLink = document.createElement('div');\n",
              "          docLink.innerHTML = docLinkHtml;\n",
              "          element.appendChild(docLink);\n",
              "        }\n",
              "      </script>\n",
              "    </div>\n",
              "  </div>\n",
              "  "
            ]
          },
          "metadata": {}
        },
        {
          "output_type": "stream",
          "name": "stdout",
          "text": [
            "Balanced accuracy of 61.83%\n"
          ]
        },
        {
          "output_type": "stream",
          "name": "stderr",
          "text": [
            "/usr/local/lib/python3.7/dist-packages/sklearn/utils/deprecation.py:87: FutureWarning: Function plot_confusion_matrix is deprecated; Function `plot_confusion_matrix` is deprecated in 1.0 and will be removed in 1.2. Use one of the class methods: ConfusionMatrixDisplay.from_predictions or ConfusionMatrixDisplay.from_estimator.\n",
            "  warnings.warn(msg, category=FutureWarning)\n"
          ]
        },
        {
          "output_type": "execute_result",
          "data": {
            "text/plain": [
              "<sklearn.metrics._plot.confusion_matrix.ConfusionMatrixDisplay at 0x7f0dc4784710>"
            ]
          },
          "metadata": {},
          "execution_count": 56
        },
        {
          "output_type": "display_data",
          "data": {
            "text/plain": [
              "<Figure size 432x288 with 2 Axes>"
            ],
            "image/png": "[encoded data removed]"
          },
          "metadata": {
            "needs_background": "light"
          }
        }
      ]
    }
  ],
  "metadata": {
    "colab": {
      "collapsed_sections": [
        "v9bsVA1Mpyf4",
        "5AR5Q1t0pvId",
        "aYdl3iiLp3hO",
        "mFVTkW4q4HA_",
        "29rSoCiyTt8a",
        "rALYxqnlXxh4",
        "MuSxDt2bmg6K",
        "wjnITUP5qlab",
        "WXb1KPudmOhB",
        "jYdeBPNp-bIX",
        "TOjJJZsY9huU"
      ],
      "provenance": [],
      "machine_shape": "hm"
    },
    "kernelspec": {
      "display_name": "Python 3",
      "name": "python3"
    },
    "language_info": {
      "name": "python"
    },
    "accelerator": "TPU",
    "gpuClass": "standard"
  },
  "nbformat": 4,
  "nbformat_minor": 0
}